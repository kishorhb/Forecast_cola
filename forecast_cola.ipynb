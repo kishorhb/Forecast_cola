{
  "nbformat": 4,
  "nbformat_minor": 0,
  "metadata": {
    "colab": {
      "name": "Untitled0.ipynb",
      "provenance": []
    },
    "kernelspec": {
      "name": "python3",
      "display_name": "Python 3"
    },
    "language_info": {
      "name": "python"
    }
  },
  "cells": [
    {
      "cell_type": "code",
      "metadata": {
        "id": "Rjnrev0XEADS"
      },
      "source": [
        "import pandas as pd\n",
        "import numpy as np\n",
        "import matplotlib.pyplot as plt\n",
        "import seaborn as sns\n",
        "import statsmodels.api as sm\n",
        "from statsmodels.tsa.seasonal import seasonal_decompose\n",
        "from statsmodels.tsa.holtwinters import SimpleExpSmoothing # SES\n",
        "from statsmodels.tsa.holtwinters import Holt # Holts Exponential Smoothing\n",
        "from statsmodels.tsa.holtwinters import ExponentialSmoothing # \n",
        "import statsmodels.graphics.tsaplots as tsa_plots\n",
        "import statsmodels.tsa.statespace as tm_models\n",
        "from datetime import datetime,time"
      ],
      "execution_count": 36,
      "outputs": []
    },
    {
      "cell_type": "code",
      "metadata": {
        "id": "ywozK9J6eZR1"
      },
      "source": [
        "cola=pd.read_csv('/content/CocaCola_Sales_Rawdata.csv')"
      ],
      "execution_count": 37,
      "outputs": []
    },
    {
      "cell_type": "code",
      "metadata": {
        "id": "2SYOlLucejKg",
        "colab": {
          "base_uri": "https://localhost:8080/",
          "height": 1000
        },
        "outputId": "5899be8d-2035-4587-a7d7-5442a22c5015"
      },
      "source": [
        "cola"
      ],
      "execution_count": 38,
      "outputs": [
        {
          "output_type": "execute_result",
          "data": {
            "text/html": [
              "<div>\n",
              "<style scoped>\n",
              "    .dataframe tbody tr th:only-of-type {\n",
              "        vertical-align: middle;\n",
              "    }\n",
              "\n",
              "    .dataframe tbody tr th {\n",
              "        vertical-align: top;\n",
              "    }\n",
              "\n",
              "    .dataframe thead th {\n",
              "        text-align: right;\n",
              "    }\n",
              "</style>\n",
              "<table border=\"1\" class=\"dataframe\">\n",
              "  <thead>\n",
              "    <tr style=\"text-align: right;\">\n",
              "      <th></th>\n",
              "      <th>Quarter</th>\n",
              "      <th>Sales</th>\n",
              "    </tr>\n",
              "  </thead>\n",
              "  <tbody>\n",
              "    <tr>\n",
              "      <th>0</th>\n",
              "      <td>Q1_86</td>\n",
              "      <td>1734.827000</td>\n",
              "    </tr>\n",
              "    <tr>\n",
              "      <th>1</th>\n",
              "      <td>Q2_86</td>\n",
              "      <td>2244.960999</td>\n",
              "    </tr>\n",
              "    <tr>\n",
              "      <th>2</th>\n",
              "      <td>Q3_86</td>\n",
              "      <td>2533.804993</td>\n",
              "    </tr>\n",
              "    <tr>\n",
              "      <th>3</th>\n",
              "      <td>Q4_86</td>\n",
              "      <td>2154.962997</td>\n",
              "    </tr>\n",
              "    <tr>\n",
              "      <th>4</th>\n",
              "      <td>Q1_87</td>\n",
              "      <td>1547.818996</td>\n",
              "    </tr>\n",
              "    <tr>\n",
              "      <th>5</th>\n",
              "      <td>Q2_87</td>\n",
              "      <td>2104.411995</td>\n",
              "    </tr>\n",
              "    <tr>\n",
              "      <th>6</th>\n",
              "      <td>Q3_87</td>\n",
              "      <td>2014.362999</td>\n",
              "    </tr>\n",
              "    <tr>\n",
              "      <th>7</th>\n",
              "      <td>Q4_87</td>\n",
              "      <td>1991.746998</td>\n",
              "    </tr>\n",
              "    <tr>\n",
              "      <th>8</th>\n",
              "      <td>Q1_88</td>\n",
              "      <td>1869.049999</td>\n",
              "    </tr>\n",
              "    <tr>\n",
              "      <th>9</th>\n",
              "      <td>Q2_88</td>\n",
              "      <td>2313.631996</td>\n",
              "    </tr>\n",
              "    <tr>\n",
              "      <th>10</th>\n",
              "      <td>Q3_88</td>\n",
              "      <td>2128.320000</td>\n",
              "    </tr>\n",
              "    <tr>\n",
              "      <th>11</th>\n",
              "      <td>Q4_88</td>\n",
              "      <td>2026.828999</td>\n",
              "    </tr>\n",
              "    <tr>\n",
              "      <th>12</th>\n",
              "      <td>Q1_89</td>\n",
              "      <td>1910.603996</td>\n",
              "    </tr>\n",
              "    <tr>\n",
              "      <th>13</th>\n",
              "      <td>Q2_89</td>\n",
              "      <td>2331.164993</td>\n",
              "    </tr>\n",
              "    <tr>\n",
              "      <th>14</th>\n",
              "      <td>Q3_89</td>\n",
              "      <td>2206.549995</td>\n",
              "    </tr>\n",
              "    <tr>\n",
              "      <th>15</th>\n",
              "      <td>Q4_89</td>\n",
              "      <td>2173.967995</td>\n",
              "    </tr>\n",
              "    <tr>\n",
              "      <th>16</th>\n",
              "      <td>Q1_90</td>\n",
              "      <td>2148.278000</td>\n",
              "    </tr>\n",
              "    <tr>\n",
              "      <th>17</th>\n",
              "      <td>Q2_90</td>\n",
              "      <td>2739.307999</td>\n",
              "    </tr>\n",
              "    <tr>\n",
              "      <th>18</th>\n",
              "      <td>Q3_90</td>\n",
              "      <td>2792.753998</td>\n",
              "    </tr>\n",
              "    <tr>\n",
              "      <th>19</th>\n",
              "      <td>Q4_90</td>\n",
              "      <td>2556.009995</td>\n",
              "    </tr>\n",
              "    <tr>\n",
              "      <th>20</th>\n",
              "      <td>Q1_91</td>\n",
              "      <td>2480.973999</td>\n",
              "    </tr>\n",
              "    <tr>\n",
              "      <th>21</th>\n",
              "      <td>Q2_91</td>\n",
              "      <td>3039.522995</td>\n",
              "    </tr>\n",
              "    <tr>\n",
              "      <th>22</th>\n",
              "      <td>Q3_91</td>\n",
              "      <td>3172.115997</td>\n",
              "    </tr>\n",
              "    <tr>\n",
              "      <th>23</th>\n",
              "      <td>Q4_91</td>\n",
              "      <td>2879.000999</td>\n",
              "    </tr>\n",
              "    <tr>\n",
              "      <th>24</th>\n",
              "      <td>Q1_92</td>\n",
              "      <td>2772.000000</td>\n",
              "    </tr>\n",
              "    <tr>\n",
              "      <th>25</th>\n",
              "      <td>Q2_92</td>\n",
              "      <td>3550.000000</td>\n",
              "    </tr>\n",
              "    <tr>\n",
              "      <th>26</th>\n",
              "      <td>Q3_92</td>\n",
              "      <td>3508.000000</td>\n",
              "    </tr>\n",
              "    <tr>\n",
              "      <th>27</th>\n",
              "      <td>Q4_92</td>\n",
              "      <td>3243.859993</td>\n",
              "    </tr>\n",
              "    <tr>\n",
              "      <th>28</th>\n",
              "      <td>Q1_93</td>\n",
              "      <td>3056.000000</td>\n",
              "    </tr>\n",
              "    <tr>\n",
              "      <th>29</th>\n",
              "      <td>Q2_93</td>\n",
              "      <td>3899.000000</td>\n",
              "    </tr>\n",
              "    <tr>\n",
              "      <th>30</th>\n",
              "      <td>Q3_93</td>\n",
              "      <td>3629.000000</td>\n",
              "    </tr>\n",
              "    <tr>\n",
              "      <th>31</th>\n",
              "      <td>Q4_93</td>\n",
              "      <td>3373.000000</td>\n",
              "    </tr>\n",
              "    <tr>\n",
              "      <th>32</th>\n",
              "      <td>Q1_94</td>\n",
              "      <td>3352.000000</td>\n",
              "    </tr>\n",
              "    <tr>\n",
              "      <th>33</th>\n",
              "      <td>Q2_94</td>\n",
              "      <td>4342.000000</td>\n",
              "    </tr>\n",
              "    <tr>\n",
              "      <th>34</th>\n",
              "      <td>Q3_94</td>\n",
              "      <td>4461.000000</td>\n",
              "    </tr>\n",
              "    <tr>\n",
              "      <th>35</th>\n",
              "      <td>Q4_94</td>\n",
              "      <td>4017.000000</td>\n",
              "    </tr>\n",
              "    <tr>\n",
              "      <th>36</th>\n",
              "      <td>Q1_95</td>\n",
              "      <td>3854.000000</td>\n",
              "    </tr>\n",
              "    <tr>\n",
              "      <th>37</th>\n",
              "      <td>Q2_95</td>\n",
              "      <td>4936.000000</td>\n",
              "    </tr>\n",
              "    <tr>\n",
              "      <th>38</th>\n",
              "      <td>Q3_95</td>\n",
              "      <td>4895.000000</td>\n",
              "    </tr>\n",
              "    <tr>\n",
              "      <th>39</th>\n",
              "      <td>Q4_95</td>\n",
              "      <td>4333.000000</td>\n",
              "    </tr>\n",
              "    <tr>\n",
              "      <th>40</th>\n",
              "      <td>Q1_96</td>\n",
              "      <td>4194.000000</td>\n",
              "    </tr>\n",
              "    <tr>\n",
              "      <th>41</th>\n",
              "      <td>Q2_96</td>\n",
              "      <td>5253.000000</td>\n",
              "    </tr>\n",
              "  </tbody>\n",
              "</table>\n",
              "</div>"
            ],
            "text/plain": [
              "   Quarter        Sales\n",
              "0    Q1_86  1734.827000\n",
              "1    Q2_86  2244.960999\n",
              "2    Q3_86  2533.804993\n",
              "3    Q4_86  2154.962997\n",
              "4    Q1_87  1547.818996\n",
              "5    Q2_87  2104.411995\n",
              "6    Q3_87  2014.362999\n",
              "7    Q4_87  1991.746998\n",
              "8    Q1_88  1869.049999\n",
              "9    Q2_88  2313.631996\n",
              "10   Q3_88  2128.320000\n",
              "11   Q4_88  2026.828999\n",
              "12   Q1_89  1910.603996\n",
              "13   Q2_89  2331.164993\n",
              "14   Q3_89  2206.549995\n",
              "15   Q4_89  2173.967995\n",
              "16   Q1_90  2148.278000\n",
              "17   Q2_90  2739.307999\n",
              "18   Q3_90  2792.753998\n",
              "19   Q4_90  2556.009995\n",
              "20   Q1_91  2480.973999\n",
              "21   Q2_91  3039.522995\n",
              "22   Q3_91  3172.115997\n",
              "23   Q4_91  2879.000999\n",
              "24   Q1_92  2772.000000\n",
              "25   Q2_92  3550.000000\n",
              "26   Q3_92  3508.000000\n",
              "27   Q4_92  3243.859993\n",
              "28   Q1_93  3056.000000\n",
              "29   Q2_93  3899.000000\n",
              "30   Q3_93  3629.000000\n",
              "31   Q4_93  3373.000000\n",
              "32   Q1_94  3352.000000\n",
              "33   Q2_94  4342.000000\n",
              "34   Q3_94  4461.000000\n",
              "35   Q4_94  4017.000000\n",
              "36   Q1_95  3854.000000\n",
              "37   Q2_95  4936.000000\n",
              "38   Q3_95  4895.000000\n",
              "39   Q4_95  4333.000000\n",
              "40   Q1_96  4194.000000\n",
              "41   Q2_96  5253.000000"
            ]
          },
          "metadata": {
            "tags": []
          },
          "execution_count": 38
        }
      ]
    },
    {
      "cell_type": "code",
      "metadata": {
        "colab": {
          "base_uri": "https://localhost:8080/",
          "height": 282
        },
        "id": "xOVoZwQlmlX4",
        "outputId": "aafcd685-56a7-400a-a632-3bb42273b472"
      },
      "source": [
        "cola.Sales.plot()"
      ],
      "execution_count": 39,
      "outputs": [
        {
          "output_type": "execute_result",
          "data": {
            "text/plain": [
              "<matplotlib.axes._subplots.AxesSubplot at 0x7fbad3dba390>"
            ]
          },
          "metadata": {
            "tags": []
          },
          "execution_count": 39
        },
        {
          "output_type": "display_data",
          "data": {
            "image/png": "[encoded data removed]",
            "text/plain": [
              "<Figure size 432x288 with 1 Axes>"
            ]
          },
          "metadata": {
            "tags": [],
            "needs_background": "light"
          }
        }
      ]
    },
    {
      "cell_type": "code",
      "metadata": {
        "colab": {
          "base_uri": "https://localhost:8080/",
          "height": 501
        },
        "id": "FAPovZq1myCl",
        "outputId": "7a246885-2a8a-43fa-d764-48660a2da56c"
      },
      "source": [
        "plt.figure(figsize=(12,8))\n",
        "heatmap_y_month = pd.pivot_table(data=cola,values=\"Sales\",index=\"Quarter\",aggfunc=\"mean\",fill_value=0)\n",
        "sns.heatmap(heatmap_y_month,annot=True,fmt=\"g\") #fmt is format of the grid values\n"
      ],
      "execution_count": 40,
      "outputs": [
        {
          "output_type": "execute_result",
          "data": {
            "text/plain": [
              "<matplotlib.axes._subplots.AxesSubplot at 0x7fbae01b2050>"
            ]
          },
          "metadata": {
            "tags": []
          },
          "execution_count": 40
        },
        {
          "output_type": "display_data",
          "data": {
            "image/png": "[encoded data removed]",
            "text/plain": [
              "<Figure size 864x576 with 2 Axes>"
            ]
          },
          "metadata": {
            "tags": [],
            "needs_background": "light"
          }
        }
      ]
    },
    {
      "cell_type": "code",
      "metadata": {
        "colab": {
          "base_uri": "https://localhost:8080/",
          "height": 230
        },
        "id": "_vK9z8bGm2Yh",
        "outputId": "968c5e40-4897-4cec-ea1f-f72d2f94c684"
      },
      "source": [
        "plt.figure(figsize=(8,6))\n",
        "plt.subplot(211)\n",
        "sns.boxplot(x=\"Sales\",y=\"Quarter\",data=cola)\n"
      ],
      "execution_count": 41,
      "outputs": [
        {
          "output_type": "execute_result",
          "data": {
            "text/plain": [
              "<matplotlib.axes._subplots.AxesSubplot at 0x7fbacde4ce90>"
            ]
          },
          "metadata": {
            "tags": []
          },
          "execution_count": 41
        },
        {
          "output_type": "display_data",
          "data": {
            "image/png": "[encoded data removed]",
            "text/plain": [
              "<Figure size 576x432 with 1 Axes>"
            ]
          },
          "metadata": {
            "tags": [],
            "needs_background": "light"
          }
        }
      ]
    },
    {
      "cell_type": "code",
      "metadata": {
        "colab": {
          "base_uri": "https://localhost:8080/",
          "height": 298
        },
        "id": "yhZKnACRm54O",
        "outputId": "5022245f-374d-4a48-cfaf-68e330d9f435"
      },
      "source": [
        "# Boxplot for ever\n",
        "sns.boxplot(x=\"Sales\",y=\"Quarter\",data=cola)"
      ],
      "execution_count": 42,
      "outputs": [
        {
          "output_type": "execute_result",
          "data": {
            "text/plain": [
              "<matplotlib.axes._subplots.AxesSubplot at 0x7fbacddd1a10>"
            ]
          },
          "metadata": {
            "tags": []
          },
          "execution_count": 42
        },
        {
          "output_type": "display_data",
          "data": {
            "image/png": "[encoded data removed]",
            "text/plain": [
              "<Figure size 432x288 with 1 Axes>"
            ]
          },
          "metadata": {
            "tags": [],
            "needs_background": "light"
          }
        }
      ]
    },
    {
      "cell_type": "code",
      "metadata": {
        "colab": {
          "base_uri": "https://localhost:8080/",
          "height": 296
        },
        "id": "6XEGnNLmm9Ny",
        "outputId": "b85d5821-2274-40ab-fc0b-3c28b0dc113e"
      },
      "source": [
        "# Line plot for Ridership based on year  and for each month\n",
        "sns.lineplot(x=\"Sales\",y=\"Quarter\",data=cola)"
      ],
      "execution_count": 43,
      "outputs": [
        {
          "output_type": "execute_result",
          "data": {
            "text/plain": [
              "<matplotlib.axes._subplots.AxesSubplot at 0x7fbacd348210>"
            ]
          },
          "metadata": {
            "tags": []
          },
          "execution_count": 43
        },
        {
          "output_type": "display_data",
          "data": {
            "image/png": "[encoded data removed]",
            "text/plain": [
              "<Figure size 432x288 with 1 Axes>"
            ]
          },
          "metadata": {
            "tags": [],
            "needs_background": "light"
          }
        }
      ]
    },
    {
      "cell_type": "code",
      "metadata": {
        "colab": {
          "base_uri": "https://localhost:8080/",
          "height": 282
        },
        "id": "sQOqp4VmnASI",
        "outputId": "525bfc1f-b05e-4c6a-d52b-7cb1b15ce44b"
      },
      "source": [
        "# moving average for the time series to understand better about the trend character in Amtrak\n",
        "cola.Sales.plot(label=\"org\")\n",
        "for i in range(2,24,6):\n",
        "    cola[\"Sales\"].rolling(i).mean().plot(label=str(i))\n",
        "plt.legend(loc=3)\n",
        "    "
      ],
      "execution_count": 44,
      "outputs": [
        {
          "output_type": "execute_result",
          "data": {
            "text/plain": [
              "<matplotlib.legend.Legend at 0x7fbacd348610>"
            ]
          },
          "metadata": {
            "tags": []
          },
          "execution_count": 44
        },
        {
          "output_type": "display_data",
          "data": {
            "image/png": "[encoded data removed]",
            "text/plain": [
              "<Figure size 432x288 with 1 Axes>"
            ]
          },
          "metadata": {
            "tags": [],
            "needs_background": "light"
          }
        }
      ]
    },
    {
      "cell_type": "code",
      "metadata": {
        "colab": {
          "base_uri": "https://localhost:8080/",
          "height": 808
        },
        "id": "_nYEU8DynDJQ",
        "outputId": "2a98f46b-eabb-4e02-b20d-40365958ad65"
      },
      "source": [
        "# ACF plots and PACF plots on Original data sets \n",
        "tsa_plots.plot_acf(cola.Sales,lags=10)\n",
        "tsa_plots.plot_pacf(cola.Sales)\n"
      ],
      "execution_count": 45,
      "outputs": [
        {
          "output_type": "execute_result",
          "data": {
            "image/png": "[encoded data removed]",
            "text/plain": [
              "<Figure size 432x288 with 1 Axes>"
            ]
          },
          "metadata": {
            "tags": []
          },
          "execution_count": 45
        },
        {
          "output_type": "display_data",
          "data": {
            "image/png": "[encoded data removed]",
            "text/plain": [
              "<Figure size 432x288 with 1 Axes>"
            ]
          },
          "metadata": {
            "tags": [],
            "needs_background": "light"
          }
        },
        {
          "output_type": "display_data",
          "data": {
            "image/png": "[encoded data removed]",
            "text/plain": [
              "<Figure size 432x288 with 1 Axes>"
            ]
          },
          "metadata": {
            "tags": [],
            "needs_background": "light"
          }
        }
      ]
    },
    {
      "cell_type": "code",
      "metadata": {
        "id": "xmaDRCCRnHJ3"
      },
      "source": [
        "cola.index.freq = \"MS\""
      ],
      "execution_count": 46,
      "outputs": []
    },
    {
      "cell_type": "code",
      "metadata": {
        "id": "p8OeL00xnLpT"
      },
      "source": [
        "Train = cola.head(133)\n",
        "Test = cola.tail(12)"
      ],
      "execution_count": 47,
      "outputs": []
    },
    {
      "cell_type": "code",
      "metadata": {
        "id": "oK6MxglHnRLK"
      },
      "source": [
        "Test.set_index(np.arange(1,13),inplace=True)\n"
      ],
      "execution_count": 48,
      "outputs": []
    },
    {
      "cell_type": "code",
      "metadata": {
        "id": "UffBvESznU63"
      },
      "source": [
        "def MAPE(pred,org):\n",
        "    temp = np.abs((pred-org))*100/org\n",
        "    return np.mean(temp)\n",
        "\n"
      ],
      "execution_count": 49,
      "outputs": []
    },
    {
      "cell_type": "code",
      "metadata": {
        "colab": {
          "base_uri": "https://localhost:8080/"
        },
        "id": "QvJKodcAncdc",
        "outputId": "dca1f45f-fd78-49d3-80a4-6a43991b8be9"
      },
      "source": [
        "#SEM\n",
        "ses_model = SimpleExpSmoothing(Train[\"Sales\"]).fit()\n",
        "pred_ses = ses_model.predict(start = Test.index[0],end = Test.index[-1])\n",
        "MAPE(pred_ses,Test.Sales) \n"
      ],
      "execution_count": 50,
      "outputs": [
        {
          "output_type": "execute_result",
          "data": {
            "text/plain": [
              "50.4127102753017"
            ]
          },
          "metadata": {
            "tags": []
          },
          "execution_count": 50
        }
      ]
    },
    {
      "cell_type": "code",
      "metadata": {
        "colab": {
          "base_uri": "https://localhost:8080/"
        },
        "id": "1qSqx2gcniwB",
        "outputId": "95a0b324-f08a-473a-af9b-a1bac46617ba"
      },
      "source": [
        "# Holt method \n",
        "hw_model = Holt(Train[\"Sales\"]).fit()\n",
        "pred_hw = hw_model.predict(start = Test.index[0],end = Test.index[-1])\n",
        "MAPE(pred_hw,Test.Sales)"
      ],
      "execution_count": 51,
      "outputs": [
        {
          "output_type": "execute_result",
          "data": {
            "text/plain": [
              "49.30898273763163"
            ]
          },
          "metadata": {
            "tags": []
          },
          "execution_count": 51
        }
      ]
    },
    {
      "cell_type": "code",
      "metadata": {
        "colab": {
          "base_uri": "https://localhost:8080/"
        },
        "id": "g9NgG0qGnmWg",
        "outputId": "b0837278-8df6-4ed9-8a66-a9fba6dad8f8"
      },
      "source": [
        "# Holts winter exponential smoothing with additive seasonality and additive trend\n",
        "hwe_model_add_add = ExponentialSmoothing(Train[\"Sales\"],seasonal=\"add\",trend=\"add\",seasonal_periods=12,damped=True).fit()\n",
        "pred_hwe_add_add = hwe_model_add_add.predict(start = Test.index[0],end = Test.index[-1])\n",
        "MAPE(pred_hwe_add_add,Test.Sales) "
      ],
      "execution_count": 52,
      "outputs": [
        {
          "output_type": "stream",
          "text": [
            "/usr/local/lib/python3.7/dist-packages/statsmodels/tsa/holtwinters.py:712: ConvergenceWarning: Optimization failed to converge. Check mle_retvals.\n"
          ],
          "name": "stderr"
        },
        {
          "output_type": "execute_result",
          "data": {
            "text/plain": [
              "48.84081480590211"
            ]
          },
          "metadata": {
            "tags": []
          },
          "execution_count": 52
        }
      ]
    },
    {
      "cell_type": "code",
      "metadata": {
        "colab": {
          "base_uri": "https://localhost:8080/"
        },
        "id": "oD20QgM8npMp",
        "outputId": "cc0d1fdd-ec79-49ee-b536-4c45fedd4d1f"
      },
      "source": [
        "# Holts winter exponential smoothing with multiplicative seasonality and additive trend\n",
        "hwe_model_mul_add = ExponentialSmoothing(Train[\"Sales\"],seasonal=\"mul\",trend=\"add\",seasonal_periods=12).fit()\n",
        "pred_hwe_mul_add = hwe_model_mul_add.predict(start = Test.index[0],end = Test.index[-1])\n",
        "MAPE(pred_hwe_mul_add,Test.Sales)"
      ],
      "execution_count": 53,
      "outputs": [
        {
          "output_type": "stream",
          "text": [
            "/usr/local/lib/python3.7/dist-packages/statsmodels/tsa/holtwinters.py:712: ConvergenceWarning: Optimization failed to converge. Check mle_retvals.\n"
          ],
          "name": "stderr"
        },
        {
          "output_type": "execute_result",
          "data": {
            "text/plain": [
              "49.06544925357082"
            ]
          },
          "metadata": {
            "tags": []
          },
          "execution_count": 53
        }
      ]
    },
    {
      "cell_type": "code",
      "metadata": {
        "colab": {
          "base_uri": "https://localhost:8080/"
        },
        "id": "lN7_rtYmntLO",
        "outputId": "de8f4fa7-bb4e-4d9f-99a8-f4f9942a8850"
      },
      "source": [
        "from pmdarima import auto_arima\n",
        "auto_arima_model = auto_arima(Train[\"Sales\"],start_p=0,\n",
        "                              start_q=0,max_p=10,max_q=10,\n",
        "                              m=12,start_P=0,seasonal=True,\n",
        "                              d=1,D=1,trace=True,error_action=\"ignore\",\n",
        "                              suppress_warnings= True,\n",
        "                              stepwise=False)\n",
        "                "
      ],
      "execution_count": 54,
      "outputs": [
        {
          "output_type": "stream",
          "text": [
            " ARIMA(0,1,0)(0,1,0)[12]             : AIC=402.446, Time=0.02 sec\n",
            " ARIMA(0,1,0)(0,1,1)[12]             : AIC=inf, Time=nan sec\n",
            " ARIMA(0,1,0)(0,1,2)[12]             : AIC=inf, Time=nan sec\n",
            " ARIMA(0,1,0)(1,1,0)[12]             : AIC=404.444, Time=0.10 sec\n",
            " ARIMA(0,1,0)(1,1,1)[12]             : AIC=inf, Time=nan sec\n",
            " ARIMA(0,1,0)(1,1,2)[12]             : AIC=inf, Time=nan sec\n",
            " ARIMA(0,1,0)(2,1,0)[12]             : AIC=406.375, Time=0.44 sec\n",
            " ARIMA(0,1,0)(2,1,1)[12]             : AIC=inf, Time=nan sec\n",
            " ARIMA(0,1,0)(2,1,2)[12]             : AIC=inf, Time=nan sec\n",
            " ARIMA(0,1,1)(0,1,0)[12]             : AIC=404.443, Time=0.05 sec\n",
            " ARIMA(0,1,1)(0,1,1)[12]             : AIC=inf, Time=nan sec\n",
            " ARIMA(0,1,1)(0,1,2)[12]             : AIC=inf, Time=nan sec\n",
            " ARIMA(0,1,1)(1,1,0)[12]             : AIC=406.441, Time=0.14 sec\n",
            " ARIMA(0,1,1)(1,1,1)[12]             : AIC=inf, Time=nan sec\n",
            " ARIMA(0,1,1)(1,1,2)[12]             : AIC=inf, Time=nan sec\n",
            " ARIMA(0,1,1)(2,1,0)[12]             : AIC=408.374, Time=0.49 sec\n",
            " ARIMA(0,1,1)(2,1,1)[12]             : AIC=inf, Time=nan sec\n",
            " ARIMA(0,1,1)(2,1,2)[12]             : AIC=inf, Time=nan sec\n",
            " ARIMA(0,1,2)(0,1,0)[12]             : AIC=403.032, Time=0.09 sec\n",
            " ARIMA(0,1,2)(0,1,1)[12]             : AIC=inf, Time=nan sec\n",
            " ARIMA(0,1,2)(0,1,2)[12]             : AIC=inf, Time=nan sec\n",
            " ARIMA(0,1,2)(1,1,0)[12]             : AIC=404.745, Time=0.30 sec\n",
            " ARIMA(0,1,2)(1,1,1)[12]             : AIC=inf, Time=nan sec\n",
            " ARIMA(0,1,2)(1,1,2)[12]             : AIC=inf, Time=nan sec\n",
            " ARIMA(0,1,2)(2,1,0)[12]             : AIC=406.740, Time=0.69 sec\n",
            " ARIMA(0,1,2)(2,1,1)[12]             : AIC=inf, Time=nan sec\n",
            " ARIMA(0,1,3)(0,1,0)[12]             : AIC=404.505, Time=0.13 sec\n",
            " ARIMA(0,1,3)(0,1,1)[12]             : AIC=inf, Time=nan sec\n",
            " ARIMA(0,1,3)(0,1,2)[12]             : AIC=inf, Time=nan sec\n",
            " ARIMA(0,1,3)(1,1,0)[12]             : AIC=406.324, Time=0.34 sec\n",
            " ARIMA(0,1,3)(1,1,1)[12]             : AIC=inf, Time=nan sec\n",
            " ARIMA(0,1,3)(2,1,0)[12]             : AIC=408.320, Time=0.78 sec\n",
            " ARIMA(0,1,4)(0,1,0)[12]             : AIC=401.702, Time=0.21 sec\n",
            " ARIMA(0,1,4)(0,1,1)[12]             : AIC=inf, Time=nan sec\n",
            " ARIMA(0,1,4)(1,1,0)[12]             : AIC=inf, Time=0.82 sec\n",
            " ARIMA(0,1,5)(0,1,0)[12]             : AIC=403.700, Time=0.31 sec\n",
            " ARIMA(1,1,0)(0,1,0)[12]             : AIC=404.445, Time=0.04 sec\n",
            " ARIMA(1,1,0)(0,1,1)[12]             : AIC=inf, Time=nan sec\n",
            " ARIMA(1,1,0)(0,1,2)[12]             : AIC=inf, Time=nan sec\n",
            " ARIMA(1,1,0)(1,1,0)[12]             : AIC=406.443, Time=0.16 sec\n",
            " ARIMA(1,1,0)(1,1,1)[12]             : AIC=inf, Time=nan sec\n",
            " ARIMA(1,1,0)(1,1,2)[12]             : AIC=inf, Time=nan sec\n",
            " ARIMA(1,1,0)(2,1,0)[12]             : AIC=408.374, Time=0.46 sec\n",
            " ARIMA(1,1,0)(2,1,1)[12]             : AIC=inf, Time=nan sec\n",
            " ARIMA(1,1,0)(2,1,2)[12]             : AIC=inf, Time=nan sec\n",
            " ARIMA(1,1,1)(0,1,0)[12]             : AIC=405.084, Time=0.29 sec\n",
            " ARIMA(1,1,1)(0,1,1)[12]             : AIC=inf, Time=nan sec\n",
            " ARIMA(1,1,1)(0,1,2)[12]             : AIC=inf, Time=nan sec\n",
            " ARIMA(1,1,1)(1,1,0)[12]             : AIC=407.084, Time=0.35 sec\n",
            " ARIMA(1,1,1)(1,1,1)[12]             : AIC=inf, Time=nan sec\n",
            " ARIMA(1,1,1)(1,1,2)[12]             : AIC=inf, Time=nan sec\n",
            " ARIMA(1,1,1)(2,1,0)[12]             : AIC=409.042, Time=0.79 sec\n",
            " ARIMA(1,1,1)(2,1,1)[12]             : AIC=inf, Time=nan sec\n",
            " ARIMA(1,1,2)(0,1,0)[12]             : AIC=404.941, Time=0.14 sec\n",
            " ARIMA(1,1,2)(0,1,1)[12]             : AIC=inf, Time=nan sec\n",
            " ARIMA(1,1,2)(0,1,2)[12]             : AIC=inf, Time=nan sec\n",
            " ARIMA(1,1,2)(1,1,0)[12]             : AIC=406.696, Time=0.41 sec\n",
            " ARIMA(1,1,2)(1,1,1)[12]             : AIC=inf, Time=nan sec\n",
            " ARIMA(1,1,2)(2,1,0)[12]             : AIC=408.692, Time=0.95 sec\n",
            " ARIMA(1,1,3)(0,1,0)[12]             : AIC=inf, Time=0.35 sec\n",
            " ARIMA(1,1,3)(0,1,1)[12]             : AIC=inf, Time=nan sec\n",
            " ARIMA(1,1,3)(1,1,0)[12]             : AIC=inf, Time=0.81 sec\n",
            " ARIMA(1,1,4)(0,1,0)[12]             : AIC=403.554, Time=0.49 sec\n",
            " ARIMA(2,1,0)(0,1,0)[12]             : AIC=401.684, Time=0.10 sec\n",
            " ARIMA(2,1,0)(0,1,1)[12]             : AIC=inf, Time=nan sec\n",
            " ARIMA(2,1,0)(0,1,2)[12]             : AIC=inf, Time=nan sec\n",
            " ARIMA(2,1,0)(1,1,0)[12]             : AIC=401.610, Time=0.26 sec\n",
            " ARIMA(2,1,0)(1,1,1)[12]             : AIC=inf, Time=nan sec\n",
            " ARIMA(2,1,0)(1,1,2)[12]             : AIC=inf, Time=nan sec\n",
            " ARIMA(2,1,0)(2,1,0)[12]             : AIC=403.570, Time=0.78 sec\n",
            " ARIMA(2,1,0)(2,1,1)[12]             : AIC=inf, Time=nan sec\n",
            " ARIMA(2,1,1)(0,1,0)[12]             : AIC=403.418, Time=0.12 sec\n",
            " ARIMA(2,1,1)(0,1,1)[12]             : AIC=inf, Time=nan sec\n",
            " ARIMA(2,1,1)(0,1,2)[12]             : AIC=inf, Time=nan sec\n",
            " ARIMA(2,1,1)(1,1,0)[12]             : AIC=403.606, Time=0.37 sec\n",
            " ARIMA(2,1,1)(1,1,1)[12]             : AIC=inf, Time=nan sec\n",
            " ARIMA(2,1,1)(2,1,0)[12]             : AIC=405.566, Time=0.97 sec\n",
            " ARIMA(2,1,2)(0,1,0)[12]             : AIC=404.490, Time=0.27 sec\n",
            " ARIMA(2,1,2)(0,1,1)[12]             : AIC=inf, Time=nan sec\n",
            " ARIMA(2,1,2)(1,1,0)[12]             : AIC=402.006, Time=0.90 sec\n",
            " ARIMA(2,1,3)(0,1,0)[12]             : AIC=inf, Time=0.45 sec\n",
            " ARIMA(3,1,0)(0,1,0)[12]             : AIC=403.121, Time=0.08 sec\n",
            " ARIMA(3,1,0)(0,1,1)[12]             : AIC=inf, Time=nan sec\n",
            " ARIMA(3,1,0)(0,1,2)[12]             : AIC=inf, Time=nan sec\n",
            " ARIMA(3,1,0)(1,1,0)[12]             : AIC=403.598, Time=0.35 sec\n",
            " ARIMA(3,1,0)(1,1,1)[12]             : AIC=inf, Time=nan sec\n",
            " ARIMA(3,1,0)(2,1,0)[12]             : AIC=405.557, Time=0.87 sec\n",
            " ARIMA(3,1,1)(0,1,0)[12]             : AIC=404.312, Time=0.19 sec\n",
            " ARIMA(3,1,1)(0,1,1)[12]             : AIC=inf, Time=nan sec\n",
            " ARIMA(3,1,1)(1,1,0)[12]             : AIC=404.698, Time=0.62 sec\n",
            " ARIMA(3,1,2)(0,1,0)[12]             : AIC=inf, Time=0.28 sec\n",
            " ARIMA(4,1,0)(0,1,0)[12]             : AIC=403.694, Time=0.15 sec\n",
            " ARIMA(4,1,0)(0,1,1)[12]             : AIC=inf, Time=nan sec\n",
            " ARIMA(4,1,0)(1,1,0)[12]             : AIC=400.949, Time=0.53 sec\n",
            " ARIMA(4,1,1)(0,1,0)[12]             : AIC=405.519, Time=0.26 sec\n",
            " ARIMA(5,1,0)(0,1,0)[12]             : AIC=405.411, Time=0.20 sec\n",
            "\n",
            "Best model:  ARIMA(4,1,0)(1,1,0)[12]          \n",
            "Total fit time: 18.126 seconds\n"
          ],
          "name": "stdout"
        }
      ]
    },
    {
      "cell_type": "code",
      "metadata": {
        "colab": {
          "base_uri": "https://localhost:8080/"
        },
        "id": "iNFf9zOkoEPC",
        "outputId": "a7fdc18a-5c70-4e45-87c5-533f25b005aa"
      },
      "source": [
        "!pip install pmdarima"
      ],
      "execution_count": 27,
      "outputs": [
        {
          "output_type": "stream",
          "text": [
            "Requirement already satisfied: pmdarima in /usr/local/lib/python3.7/dist-packages (1.8.2)\n",
            "Requirement already satisfied: pandas>=0.19 in /usr/local/lib/python3.7/dist-packages (from pmdarima) (1.1.5)\n",
            "Requirement already satisfied: statsmodels!=0.12.0,>=0.11 in /usr/local/lib/python3.7/dist-packages (from pmdarima) (0.12.2)\n",
            "Requirement already satisfied: urllib3 in /usr/local/lib/python3.7/dist-packages (from pmdarima) (1.24.3)\n",
            "Requirement already satisfied: setuptools!=50.0.0,>=38.6.0 in /usr/local/lib/python3.7/dist-packages (from pmdarima) (57.0.0)\n",
            "Requirement already satisfied: Cython!=0.29.18,>=0.29 in /usr/local/lib/python3.7/dist-packages (from pmdarima) (0.29.23)\n",
            "Requirement already satisfied: scipy>=1.3.2 in /usr/local/lib/python3.7/dist-packages (from pmdarima) (1.4.1)\n",
            "Requirement already satisfied: joblib>=0.11 in /usr/local/lib/python3.7/dist-packages (from pmdarima) (1.0.1)\n",
            "Requirement already satisfied: numpy~=1.19.0 in /usr/local/lib/python3.7/dist-packages (from pmdarima) (1.19.5)\n",
            "Requirement already satisfied: scikit-learn>=0.22 in /usr/local/lib/python3.7/dist-packages (from pmdarima) (0.22.2.post1)\n",
            "Requirement already satisfied: pytz>=2017.2 in /usr/local/lib/python3.7/dist-packages (from pandas>=0.19->pmdarima) (2018.9)\n",
            "Requirement already satisfied: python-dateutil>=2.7.3 in /usr/local/lib/python3.7/dist-packages (from pandas>=0.19->pmdarima) (2.8.1)\n",
            "Requirement already satisfied: patsy>=0.5 in /usr/local/lib/python3.7/dist-packages (from statsmodels!=0.12.0,>=0.11->pmdarima) (0.5.1)\n",
            "Requirement already satisfied: six>=1.5 in /usr/local/lib/python3.7/dist-packages (from python-dateutil>=2.7.3->pandas>=0.19->pmdarima) (1.15.0)\n"
          ],
          "name": "stdout"
        }
      ]
    },
    {
      "cell_type": "code",
      "metadata": {
        "colab": {
          "base_uri": "https://localhost:8080/",
          "height": 423
        },
        "id": "1N8otAMSoM9F",
        "outputId": "4b794b71-fc85-4a96-8295-03158cfe9367"
      },
      "source": [
        "auto_arima_model.summary()\n"
      ],
      "execution_count": 55,
      "outputs": [
        {
          "output_type": "execute_result",
          "data": {
            "text/html": [
              "<table class=\"simpletable\">\n",
              "<caption>Statespace Model Results</caption>\n",
              "<tr>\n",
              "  <th>Dep. Variable:</th>                  <td>y</td>               <th>  No. Observations:  </th>    <td>42</td>   \n",
              "</tr>\n",
              "<tr>\n",
              "  <th>Model:</th>           <td>SARIMAX(4, 1, 0)x(1, 1, 0, 12)</td> <th>  Log Likelihood     </th> <td>-194.474</td>\n",
              "</tr>\n",
              "<tr>\n",
              "  <th>Date:</th>                   <td>Mon, 07 Jun 2021</td>        <th>  AIC                </th>  <td>400.949</td>\n",
              "</tr>\n",
              "<tr>\n",
              "  <th>Time:</th>                       <td>14:22:03</td>            <th>  BIC                </th>  <td>409.152</td>\n",
              "</tr>\n",
              "<tr>\n",
              "  <th>Sample:</th>                         <td>0</td>               <th>  HQIC               </th>  <td>403.518</td>\n",
              "</tr>\n",
              "<tr>\n",
              "  <th></th>                              <td> - 42</td>             <th>                     </th>     <td> </td>   \n",
              "</tr>\n",
              "<tr>\n",
              "  <th>Covariance Type:</th>               <td>opg</td>              <th>                     </th>     <td> </td>   \n",
              "</tr>\n",
              "</table>\n",
              "<table class=\"simpletable\">\n",
              "<tr>\n",
              "      <td></td>        <th>coef</th>     <th>std err</th>      <th>z</th>      <th>P>|z|</th>  <th>[0.025</th>    <th>0.975]</th>  \n",
              "</tr>\n",
              "<tr>\n",
              "  <th>ar.L1</th>    <td>    0.1238</td> <td>    0.169</td> <td>    0.731</td> <td> 0.465</td> <td>   -0.208</td> <td>    0.456</td>\n",
              "</tr>\n",
              "<tr>\n",
              "  <th>ar.L2</th>    <td>   -0.3922</td> <td>    0.197</td> <td>   -1.993</td> <td> 0.046</td> <td>   -0.778</td> <td>   -0.007</td>\n",
              "</tr>\n",
              "<tr>\n",
              "  <th>ar.L3</th>    <td>    0.0167</td> <td>    0.146</td> <td>    0.114</td> <td> 0.909</td> <td>   -0.269</td> <td>    0.302</td>\n",
              "</tr>\n",
              "<tr>\n",
              "  <th>ar.L4</th>    <td>    0.4496</td> <td>    0.227</td> <td>    1.979</td> <td> 0.048</td> <td>    0.004</td> <td>    0.895</td>\n",
              "</tr>\n",
              "<tr>\n",
              "  <th>ar.S.L12</th> <td>   -0.6293</td> <td>    0.191</td> <td>   -3.298</td> <td> 0.001</td> <td>   -1.003</td> <td>   -0.255</td>\n",
              "</tr>\n",
              "<tr>\n",
              "  <th>sigma2</th>   <td> 2.925e+04</td> <td> 1.19e+04</td> <td>    2.465</td> <td> 0.014</td> <td> 5988.369</td> <td> 5.25e+04</td>\n",
              "</tr>\n",
              "</table>\n",
              "<table class=\"simpletable\">\n",
              "<tr>\n",
              "  <th>Ljung-Box (Q):</th>           <td>nan</td> <th>  Jarque-Bera (JB):  </th> <td>0.49</td>\n",
              "</tr>\n",
              "<tr>\n",
              "  <th>Prob(Q):</th>                 <td>nan</td> <th>  Prob(JB):          </th> <td>0.78</td>\n",
              "</tr>\n",
              "<tr>\n",
              "  <th>Heteroskedasticity (H):</th> <td>0.50</td> <th>  Skew:              </th> <td>0.01</td>\n",
              "</tr>\n",
              "<tr>\n",
              "  <th>Prob(H) (two-sided):</th>    <td>0.29</td> <th>  Kurtosis:          </th> <td>2.36</td>\n",
              "</tr>\n",
              "</table><br/><br/>Warnings:<br/>[1] Covariance matrix calculated using the outer product of gradients (complex-step)."
            ],
            "text/plain": [
              "<class 'statsmodels.iolib.summary.Summary'>\n",
              "\"\"\"\n",
              "                                 Statespace Model Results                                 \n",
              "==========================================================================================\n",
              "Dep. Variable:                                  y   No. Observations:                   42\n",
              "Model:             SARIMAX(4, 1, 0)x(1, 1, 0, 12)   Log Likelihood                -194.474\n",
              "Date:                            Mon, 07 Jun 2021   AIC                            400.949\n",
              "Time:                                    14:22:03   BIC                            409.152\n",
              "Sample:                                         0   HQIC                           403.518\n",
              "                                             - 42                                         \n",
              "Covariance Type:                              opg                                         \n",
              "==============================================================================\n",
              "                 coef    std err          z      P>|z|      [0.025      0.975]\n",
              "------------------------------------------------------------------------------\n",
              "ar.L1          0.1238      0.169      0.731      0.465      -0.208       0.456\n",
              "ar.L2         -0.3922      0.197     -1.993      0.046      -0.778      -0.007\n",
              "ar.L3          0.0167      0.146      0.114      0.909      -0.269       0.302\n",
              "ar.L4          0.4496      0.227      1.979      0.048       0.004       0.895\n",
              "ar.S.L12      -0.6293      0.191     -3.298      0.001      -1.003      -0.255\n",
              "sigma2      2.925e+04   1.19e+04      2.465      0.014    5988.369    5.25e+04\n",
              "===================================================================================\n",
              "Ljung-Box (Q):                         nan   Jarque-Bera (JB):                 0.49\n",
              "Prob(Q):                               nan   Prob(JB):                         0.78\n",
              "Heteroskedasticity (H):               0.50   Skew:                             0.01\n",
              "Prob(H) (two-sided):                  0.29   Kurtosis:                         2.36\n",
              "===================================================================================\n",
              "\n",
              "Warnings:\n",
              "[1] Covariance matrix calculated using the outer product of gradients (complex-step).\n",
              "\"\"\""
            ]
          },
          "metadata": {
            "tags": []
          },
          "execution_count": 55
        }
      ]
    },
    {
      "cell_type": "code",
      "metadata": {
        "colab": {
          "base_uri": "https://localhost:8080/"
        },
        "id": "OgWJ6bx7oqWz",
        "outputId": "575a4f6e-b702-4240-b157-b8c5bf5b26ea"
      },
      "source": [
        "# For getting Fitted values for train data set we use \n",
        "# predict_in_sample() function \n",
        "auto_arima_model.predict_in_sample( )\n"
      ],
      "execution_count": 56,
      "outputs": [
        {
          "output_type": "execute_result",
          "data": {
            "text/plain": [
              "array([   0.        , 1739.98595648, 2217.4903774 , 2513.52520945,\n",
              "       2169.84550374, 1580.53376383, 2128.33982364, 1972.35446413,\n",
              "       1964.15442342, 1895.59301841, 2340.15448466, 2099.81446149,\n",
              "       2881.93544347, 2415.24468734, 2676.35054559, 1820.50717292,\n",
              "       1793.53757203, 2621.63889894, 2313.19652222, 2885.03993389,\n",
              "       2561.86243178, 3050.14297158, 2979.28848855, 2897.79576869,\n",
              "       2587.6233347 , 3318.43810468, 3713.61055872, 3066.64070818,\n",
              "       3004.73670036, 3788.35885139, 3736.04945749, 3388.05585225,\n",
              "       3436.50916426, 4028.7963876 , 4196.49361485, 4046.35830523,\n",
              "       3843.6002977 , 4736.6740628 , 5006.51712516, 4452.77769526,\n",
              "       4157.71764128, 5284.54129047])"
            ]
          },
          "metadata": {
            "tags": []
          },
          "execution_count": 56
        }
      ]
    },
    {
      "cell_type": "code",
      "metadata": {
        "colab": {
          "base_uri": "https://localhost:8080/"
        },
        "id": "ZtP9zsMZouTA",
        "outputId": "699c413f-a659-4cf3-a014-1515896f1118"
      },
      "source": [
        "# For getting predictions for future we use predict() function \n",
        "pred_test = pd.Series(auto_arima_model.predict(n_periods=12))\n",
        "# Adding the index values of Test Data set to predictions of Auto Arima\n",
        "pred_test.index = Test.index\n",
        "MAPE(pred_test,Test.Sales) "
      ],
      "execution_count": 57,
      "outputs": [
        {
          "output_type": "execute_result",
          "data": {
            "text/plain": [
              "29.787336805086852"
            ]
          },
          "metadata": {
            "tags": []
          },
          "execution_count": 57
        }
      ]
    },
    {
      "cell_type": "code",
      "metadata": {
        "id": "M57-2_ZLozkN"
      },
      "source": [
        "# Using Sarimax from statsmodels \n",
        "# As we do not have automatic function in indetifying the \n",
        "# best p,d,q combination \n",
        "# iterate over multiple combinations and return the best the combination\n",
        "# For sarimax we require p,d,q and P,D,Q \n",
        "combinations_l = list((range(1,7),range(2),range(1,7)))\n",
        " \n"
      ],
      "execution_count": 63,
      "outputs": []
    },
    {
      "cell_type": "code",
      "metadata": {
        "id": "M3AkRreBo-Jl"
      },
      "source": [
        "combinations_u = list((range(1,7),range(2),range(1,7)))\n",
        "m =12"
      ],
      "execution_count": 64,
      "outputs": []
    },
    {
      "cell_type": "code",
      "metadata": {
        "id": "I0oyVPUQ3vYG"
      },
      "source": [
        "results_sarima = []\n",
        "best_aic = float(\"inf\")\n"
      ],
      "execution_count": 65,
      "outputs": []
    },
    {
      "cell_type": "code",
      "metadata": {
        "id": "5nyLyeyx3y8n"
      },
      "source": [
        "for i in combinations_l:\n",
        "    for j in combinations_u:\n",
        "        try:\n",
        "            model_sarima = sm.tsa.statespace.SARIMAX(Train[\"Sales\"],\n",
        "                                                     order = i,seasonal_order = j+(m,)).fit(disp=-1)\n",
        "        except:\n",
        "            continue\n",
        "        aic = model_sarima.aic\n",
        "        if aic < best_aic:\n",
        "            best_model = model_sarima\n",
        "            best_aic = aic\n",
        "            best_l = i\n",
        "            best_u = j\n",
        "        results_sarima.append([i,j,model_sarima.aic])\n",
        "\n"
      ],
      "execution_count": 66,
      "outputs": []
    },
    {
      "cell_type": "code",
      "metadata": {
        "id": "u5klKBpD36JH"
      },
      "source": [
        "result_sarima_table = pd.DataFrame(results_sarima)"
      ],
      "execution_count": 67,
      "outputs": []
    },
    {
      "cell_type": "code",
      "metadata": {
        "colab": {
          "base_uri": "https://localhost:8080/"
        },
        "id": "GKxGY6YF4_N9",
        "outputId": "6b196de2-dc3f-4a79-df5f-9fc812fb6ef2"
      },
      "source": [
        "best_fit_model = sm.tsa.statespace.SARIMAX(Train[\"Sales\"],\n",
        "                                                     order = (1,1,1),seasonal_order = (1,1,1,6)).fit(disp=-1)"
      ],
      "execution_count": 72,
      "outputs": [
        {
          "output_type": "stream",
          "text": [
            "/usr/local/lib/python3.7/dist-packages/statsmodels/tsa/statespace/sarimax.py:981: UserWarning: Non-stationary starting seasonal autoregressive Using zeros as starting parameters.\n",
            "  \n"
          ],
          "name": "stderr"
        }
      ]
    },
    {
      "cell_type": "code",
      "metadata": {
        "colab": {
          "base_uri": "https://localhost:8080/",
          "height": 405
        },
        "id": "ELUscPpy5KSn",
        "outputId": "3955f14f-73bb-480c-95fd-ccd58fee85c4"
      },
      "source": [
        "best_fit_model.summary()"
      ],
      "execution_count": 73,
      "outputs": [
        {
          "output_type": "execute_result",
          "data": {
            "text/html": [
              "<table class=\"simpletable\">\n",
              "<caption>Statespace Model Results</caption>\n",
              "<tr>\n",
              "  <th>Dep. Variable:</th>               <td>Sales</td>             <th>  No. Observations:  </th>    <td>42</td>   \n",
              "</tr>\n",
              "<tr>\n",
              "  <th>Model:</th>           <td>SARIMAX(1, 1, 1)x(1, 1, 1, 6)</td> <th>  Log Likelihood     </th> <td>-247.035</td>\n",
              "</tr>\n",
              "<tr>\n",
              "  <th>Date:</th>                  <td>Mon, 07 Jun 2021</td>        <th>  AIC                </th>  <td>504.069</td>\n",
              "</tr>\n",
              "<tr>\n",
              "  <th>Time:</th>                      <td>14:34:19</td>            <th>  BIC                </th>  <td>511.846</td>\n",
              "</tr>\n",
              "<tr>\n",
              "  <th>Sample:</th>                        <td>0</td>               <th>  HQIC               </th>  <td>506.754</td>\n",
              "</tr>\n",
              "<tr>\n",
              "  <th></th>                             <td> - 42</td>             <th>                     </th>     <td> </td>   \n",
              "</tr>\n",
              "<tr>\n",
              "  <th>Covariance Type:</th>              <td>opg</td>              <th>                     </th>     <td> </td>   \n",
              "</tr>\n",
              "</table>\n",
              "<table class=\"simpletable\">\n",
              "<tr>\n",
              "     <td></td>        <th>coef</th>     <th>std err</th>      <th>z</th>      <th>P>|z|</th>  <th>[0.025</th>    <th>0.975]</th>  \n",
              "</tr>\n",
              "<tr>\n",
              "  <th>ar.L1</th>   <td>    0.9972</td> <td>    8.704</td> <td>    0.115</td> <td> 0.909</td> <td>  -16.062</td> <td>   18.057</td>\n",
              "</tr>\n",
              "<tr>\n",
              "  <th>ma.L1</th>   <td>   -0.9958</td> <td>    9.520</td> <td>   -0.105</td> <td> 0.917</td> <td>  -19.655</td> <td>   17.664</td>\n",
              "</tr>\n",
              "<tr>\n",
              "  <th>ar.S.L6</th> <td>   -0.9524</td> <td>    0.057</td> <td>  -16.617</td> <td> 0.000</td> <td>   -1.065</td> <td>   -0.840</td>\n",
              "</tr>\n",
              "<tr>\n",
              "  <th>ma.S.L6</th> <td>   -0.2727</td> <td>    0.216</td> <td>   -1.262</td> <td> 0.207</td> <td>   -0.696</td> <td>    0.151</td>\n",
              "</tr>\n",
              "<tr>\n",
              "  <th>sigma2</th>  <td>   5.4e+04</td> <td>  4.2e+04</td> <td>    1.284</td> <td> 0.199</td> <td>-2.84e+04</td> <td> 1.36e+05</td>\n",
              "</tr>\n",
              "</table>\n",
              "<table class=\"simpletable\">\n",
              "<tr>\n",
              "  <th>Ljung-Box (Q):</th>           <td>nan</td> <th>  Jarque-Bera (JB):  </th> <td>1.20</td>\n",
              "</tr>\n",
              "<tr>\n",
              "  <th>Prob(Q):</th>                 <td>nan</td> <th>  Prob(JB):          </th> <td>0.55</td>\n",
              "</tr>\n",
              "<tr>\n",
              "  <th>Heteroskedasticity (H):</th> <td>0.76</td> <th>  Skew:              </th> <td>0.35</td>\n",
              "</tr>\n",
              "<tr>\n",
              "  <th>Prob(H) (two-sided):</th>    <td>0.64</td> <th>  Kurtosis:          </th> <td>2.43</td>\n",
              "</tr>\n",
              "</table><br/><br/>Warnings:<br/>[1] Covariance matrix calculated using the outer product of gradients (complex-step)."
            ],
            "text/plain": [
              "<class 'statsmodels.iolib.summary.Summary'>\n",
              "\"\"\"\n",
              "                                 Statespace Model Results                                \n",
              "=========================================================================================\n",
              "Dep. Variable:                             Sales   No. Observations:                   42\n",
              "Model:             SARIMAX(1, 1, 1)x(1, 1, 1, 6)   Log Likelihood                -247.035\n",
              "Date:                           Mon, 07 Jun 2021   AIC                            504.069\n",
              "Time:                                   14:34:19   BIC                            511.846\n",
              "Sample:                                        0   HQIC                           506.754\n",
              "                                            - 42                                         \n",
              "Covariance Type:                             opg                                         \n",
              "==============================================================================\n",
              "                 coef    std err          z      P>|z|      [0.025      0.975]\n",
              "------------------------------------------------------------------------------\n",
              "ar.L1          0.9972      8.704      0.115      0.909     -16.062      18.057\n",
              "ma.L1         -0.9958      9.520     -0.105      0.917     -19.655      17.664\n",
              "ar.S.L6       -0.9524      0.057    -16.617      0.000      -1.065      -0.840\n",
              "ma.S.L6       -0.2727      0.216     -1.262      0.207      -0.696       0.151\n",
              "sigma2        5.4e+04    4.2e+04      1.284      0.199   -2.84e+04    1.36e+05\n",
              "===================================================================================\n",
              "Ljung-Box (Q):                         nan   Jarque-Bera (JB):                 1.20\n",
              "Prob(Q):                               nan   Prob(JB):                         0.55\n",
              "Heteroskedasticity (H):               0.76   Skew:                             0.35\n",
              "Prob(H) (two-sided):                  0.64   Kurtosis:                         2.43\n",
              "===================================================================================\n",
              "\n",
              "Warnings:\n",
              "[1] Covariance matrix calculated using the outer product of gradients (complex-step).\n",
              "\"\"\""
            ]
          },
          "metadata": {
            "tags": []
          },
          "execution_count": 73
        }
      ]
    },
    {
      "cell_type": "code",
      "metadata": {
        "colab": {
          "base_uri": "https://localhost:8080/"
        },
        "id": "bLsJML4q5V7Z",
        "outputId": "b95f5d33-e281-4dd6-9acd-7d2d5225011b"
      },
      "source": [
        "best_fit_model.aic "
      ],
      "execution_count": 74,
      "outputs": [
        {
          "output_type": "execute_result",
          "data": {
            "text/plain": [
              "504.0694755581618"
            ]
          },
          "metadata": {
            "tags": []
          },
          "execution_count": 74
        }
      ]
    },
    {
      "cell_type": "code",
      "metadata": {
        "id": "DrnszdeI5ZHe"
      },
      "source": [
        "srma_pred = best_fit_model.predict(start = Test.index[0],end = Test.index[-1])"
      ],
      "execution_count": 75,
      "outputs": []
    },
    {
      "cell_type": "code",
      "metadata": {
        "id": "3vIX7oCX5dXy"
      },
      "source": [
        "cola[\"srma_pred\"] = srma_pred\n"
      ],
      "execution_count": 76,
      "outputs": []
    },
    {
      "cell_type": "code",
      "metadata": {
        "colab": {
          "base_uri": "https://localhost:8080/",
          "height": 282
        },
        "id": "d4vr7vgB5iIy",
        "outputId": "435d3bd9-d72c-4c6e-c260-718cddab721e"
      },
      "source": [
        "plt.plot(Train.index, Train[\"Sales\"], label='Train',color=\"black\")"
      ],
      "execution_count": 77,
      "outputs": [
        {
          "output_type": "execute_result",
          "data": {
            "text/plain": [
              "[<matplotlib.lines.Line2D at 0x7fbaccf6e610>]"
            ]
          },
          "metadata": {
            "tags": []
          },
          "execution_count": 77
        },
        {
          "output_type": "display_data",
          "data": {
            "image/png": "[encoded data removed]",
            "text/plain": [
              "<Figure size 432x288 with 1 Axes>"
            ]
          },
          "metadata": {
            "tags": [],
            "needs_background": "light"
          }
        }
      ]
    },
    {
      "cell_type": "code",
      "metadata": {
        "colab": {
          "base_uri": "https://localhost:8080/",
          "height": 282
        },
        "id": "bG9FlE3A5nWM",
        "outputId": "ebbef271-2c27-430e-e9ab-c3b00411e3c9"
      },
      "source": [
        "# Visualization of Forecasted values for Test data set using different methods\n",
        "plt.plot(Test.index, Test[\"Sales\"], label='Test',color=\"blue\")"
      ],
      "execution_count": 78,
      "outputs": [
        {
          "output_type": "execute_result",
          "data": {
            "text/plain": [
              "[<matplotlib.lines.Line2D at 0x7fbaccf6bf50>]"
            ]
          },
          "metadata": {
            "tags": []
          },
          "execution_count": 78
        },
        {
          "output_type": "display_data",
          "data": {
            "image/png": "[encoded data removed]",
            "text/plain": [
              "<Figure size 432x288 with 1 Axes>"
            ]
          },
          "metadata": {
            "tags": [],
            "needs_background": "light"
          }
        }
      ]
    },
    {
      "cell_type": "code",
      "metadata": {
        "colab": {
          "base_uri": "https://localhost:8080/",
          "height": 282
        },
        "id": "ekSpm7-t5xLd",
        "outputId": "3c4bf438-ce43-41b0-86eb-bc0ee84ad6f0"
      },
      "source": [
        "plt.plot(pred_ses.index, pred_ses, label='SimpleExponential',color=\"green\")"
      ],
      "execution_count": 79,
      "outputs": [
        {
          "output_type": "execute_result",
          "data": {
            "text/plain": [
              "[<matplotlib.lines.Line2D at 0x7fbaccdd2410>]"
            ]
          },
          "metadata": {
            "tags": []
          },
          "execution_count": 79
        },
        {
          "output_type": "display_data",
          "data": {
            "image/png": "[encoded data removed]",
            "text/plain": [
              "<Figure size 432x288 with 1 Axes>"
            ]
          },
          "metadata": {
            "tags": [],
            "needs_background": "light"
          }
        }
      ]
    },
    {
      "cell_type": "code",
      "metadata": {
        "colab": {
          "base_uri": "https://localhost:8080/",
          "height": 282
        },
        "id": "UiIX76cJ51Sh",
        "outputId": "59d72c28-ec04-4f7c-dd7a-8e1047e9cb13"
      },
      "source": [
        "plt.plot(pred_hw.index, pred_hw, label='Holts_winter',color=\"red\")"
      ],
      "execution_count": 80,
      "outputs": [
        {
          "output_type": "execute_result",
          "data": {
            "text/plain": [
              "[<matplotlib.lines.Line2D at 0x7fbaccf87a50>]"
            ]
          },
          "metadata": {
            "tags": []
          },
          "execution_count": 80
        },
        {
          "output_type": "display_data",
          "data": {
            "image/png": "[encoded data removed]",
            "text/plain": [
              "<Figure size 432x288 with 1 Axes>"
            ]
          },
          "metadata": {
            "tags": [],
            "needs_background": "light"
          }
        }
      ]
    },
    {
      "cell_type": "code",
      "metadata": {
        "colab": {
          "base_uri": "https://localhost:8080/",
          "height": 282
        },
        "id": "YkHig5lh55V0",
        "outputId": "c7f7b94b-efb7-4ade-c986-1a7b6f16f885"
      },
      "source": [
        "plt.plot(pred_hwe_add_add.index,pred_hwe_add_add,label=\"HoltsWinterExponential_1\",color=\"brown\")"
      ],
      "execution_count": 81,
      "outputs": [
        {
          "output_type": "execute_result",
          "data": {
            "text/plain": [
              "[<matplotlib.lines.Line2D at 0x7fbacd00b9d0>]"
            ]
          },
          "metadata": {
            "tags": []
          },
          "execution_count": 81
        },
        {
          "output_type": "display_data",
          "data": {
            "image/png": "[encoded data removed]",
            "text/plain": [
              "<Figure size 432x288 with 1 Axes>"
            ]
          },
          "metadata": {
            "tags": [],
            "needs_background": "light"
          }
        }
      ]
    },
    {
      "cell_type": "code",
      "metadata": {
        "colab": {
          "base_uri": "https://localhost:8080/",
          "height": 282
        },
        "id": "qTqNle-U58yc",
        "outputId": "7d5ba119-2997-48e4-a69e-d8497e29bb4d"
      },
      "source": [
        "plt.plot(pred_hwe_mul_add.index,pred_hwe_mul_add,label=\"HoltsWinterExponential_2\",color=\"yellow\")"
      ],
      "execution_count": 82,
      "outputs": [
        {
          "output_type": "execute_result",
          "data": {
            "text/plain": [
              "[<matplotlib.lines.Line2D at 0x7fbacccff7d0>]"
            ]
          },
          "metadata": {
            "tags": []
          },
          "execution_count": 82
        },
        {
          "output_type": "display_data",
          "data": {
            "image/png": "[encoded data removed]",
            "text/plain": [
              "<Figure size 432x288 with 1 Axes>"
            ]
          },
          "metadata": {
            "tags": [],
            "needs_background": "light"
          }
        }
      ]
    },
    {
      "cell_type": "code",
      "metadata": {
        "colab": {
          "base_uri": "https://localhost:8080/",
          "height": 282
        },
        "id": "V_QPhycq6AMG",
        "outputId": "39b06dc4-8812-4459-a995-6e16ae48d925"
      },
      "source": [
        "plt.plot(pred_hwe_mul_add.index,pred_hwe_mul_add,label=\"Auto_Arima\",color=\"grey\")"
      ],
      "execution_count": 83,
      "outputs": [
        {
          "output_type": "execute_result",
          "data": {
            "text/plain": [
              "[<matplotlib.lines.Line2D at 0x7fbaccce5e50>]"
            ]
          },
          "metadata": {
            "tags": []
          },
          "execution_count": 83
        },
        {
          "output_type": "display_data",
          "data": {
            "image/png": "[encoded data removed]",
            "text/plain": [
              "<Figure size 432x288 with 1 Axes>"
            ]
          },
          "metadata": {
            "tags": [],
            "needs_background": "light"
          }
        }
      ]
    },
    {
      "cell_type": "code",
      "metadata": {
        "colab": {
          "base_uri": "https://localhost:8080/",
          "height": 282
        },
        "id": "jqnvx3U16D0j",
        "outputId": "aa746164-5152-4844-8255-6848a2fea03f"
      },
      "source": [
        "plt.plot(pred_hwe_mul_add.index,srma_pred,label=\"Auto_Sarima\",color=\"purple\")"
      ],
      "execution_count": 84,
      "outputs": [
        {
          "output_type": "execute_result",
          "data": {
            "text/plain": [
              "[<matplotlib.lines.Line2D at 0x7fbaccc5b550>]"
            ]
          },
          "metadata": {
            "tags": []
          },
          "execution_count": 84
        },
        {
          "output_type": "display_data",
          "data": {
            "image/png": "[encoded data removed]",
            "text/plain": [
              "<Figure size 432x288 with 1 Axes>"
            ]
          },
          "metadata": {
            "tags": [],
            "needs_background": "light"
          }
        }
      ]
    },
    {
      "cell_type": "code",
      "metadata": {
        "colab": {
          "base_uri": "https://localhost:8080/",
          "height": 304
        },
        "id": "sL4OnE0F6IZ0",
        "outputId": "aa821f0d-1704-4592-cdcc-f57aac53cd2a"
      },
      "source": [
        "plt.legend(loc='best')\n"
      ],
      "execution_count": 85,
      "outputs": [
        {
          "output_type": "stream",
          "text": [
            "No handles with labels found to put in legend.\n"
          ],
          "name": "stderr"
        },
        {
          "output_type": "execute_result",
          "data": {
            "text/plain": [
              "<matplotlib.legend.Legend at 0x7fbaccb79ed0>"
            ]
          },
          "metadata": {
            "tags": []
          },
          "execution_count": 85
        },
        {
          "output_type": "display_data",
          "data": {
            "image/png": "[encoded data removed]",
            "text/plain": [
              "<Figure size 432x288 with 1 Axes>"
            ]
          },
          "metadata": {
            "tags": [],
            "needs_background": "light"
          }
        }
      ]
    },
    {
      "cell_type": "code",
      "metadata": {
        "id": "ReWdk4Zc6Lcv"
      },
      "source": [
        "# Models and their MAPE values\n",
        "model_mapes = pd.DataFrame(columns=[\"model_name\",\"mape\"])"
      ],
      "execution_count": 86,
      "outputs": []
    },
    {
      "cell_type": "code",
      "metadata": {
        "id": "e1CMAG7t6PfQ"
      },
      "source": [
        "model_mapes[\"model_name\"] = [\" \"]\n",
        "# Visualizing the ACF and PACF plots for errors \"\""
      ],
      "execution_count": 90,
      "outputs": []
    },
    {
      "cell_type": "code",
      "metadata": {
        "colab": {
          "base_uri": "https://localhost:8080/"
        },
        "id": "gX6Qcx4d6Stz",
        "outputId": "662a7291-b8ee-4fc4-94dc-395752448401"
      },
      "source": [
        "model_mapes[\"model_name\"]"
      ],
      "execution_count": 91,
      "outputs": [
        {
          "output_type": "execute_result",
          "data": {
            "text/plain": [
              "0     \n",
              "Name: model_name, dtype: object"
            ]
          },
          "metadata": {
            "tags": []
          },
          "execution_count": 91
        }
      ]
    },
    {
      "cell_type": "code",
      "metadata": {
        "id": "KVSiLeYV6bfX"
      },
      "source": [
        "quarter =['Q1','Q2','Q3','Q4']"
      ],
      "execution_count": 93,
      "outputs": []
    },
    {
      "cell_type": "code",
      "metadata": {
        "id": "9R7Ufert7Xnu"
      },
      "source": [
        "p =cola[\"Quarter\"][0:4]\n"
      ],
      "execution_count": 95,
      "outputs": []
    },
    {
      "cell_type": "code",
      "metadata": {
        "colab": {
          "base_uri": "https://localhost:8080/"
        },
        "id": "pnR2OtEB8jsJ",
        "outputId": "e7d17292-7460-4b6c-cf6b-c90812aceb58"
      },
      "source": [
        "p"
      ],
      "execution_count": 96,
      "outputs": [
        {
          "output_type": "execute_result",
          "data": {
            "text/plain": [
              "0    Q1_86\n",
              "1    Q2_86\n",
              "2    Q3_86\n",
              "3    Q4_86\n",
              "Name: Quarter, dtype: object"
            ]
          },
          "metadata": {
            "tags": []
          },
          "execution_count": 96
        }
      ]
    },
    {
      "cell_type": "code",
      "metadata": {
        "colab": {
          "base_uri": "https://localhost:8080/"
        },
        "id": "5lAt0mGP8oXx",
        "outputId": "1e52e387-bd74-4d76-854e-7c077c195c31"
      },
      "source": [
        "cola[\"Quarter\"][0:4]"
      ],
      "execution_count": 97,
      "outputs": [
        {
          "output_type": "execute_result",
          "data": {
            "text/plain": [
              "0    Q1_86\n",
              "1    Q2_86\n",
              "2    Q3_86\n",
              "3    Q4_86\n",
              "Name: Quarter, dtype: object"
            ]
          },
          "metadata": {
            "tags": []
          },
          "execution_count": 97
        }
      ]
    },
    {
      "cell_type": "code",
      "metadata": {
        "colab": {
          "base_uri": "https://localhost:8080/"
        },
        "id": "KlM8uwaX8va9",
        "outputId": "53468651-e12d-409b-d975-ed3063d0a462"
      },
      "source": [
        "for i in range(42):\n",
        "    p = cola[\"Quarter\"][i]\n",
        "    cola['Quarter'][i]= p[0:4]"
      ],
      "execution_count": 99,
      "outputs": [
        {
          "output_type": "stream",
          "text": [
            "/usr/local/lib/python3.7/dist-packages/ipykernel_launcher.py:3: SettingWithCopyWarning: \n",
            "A value is trying to be set on a copy of a slice from a DataFrame\n",
            "\n",
            "See the caveats in the documentation: https://pandas.pydata.org/pandas-docs/stable/user_guide/indexing.html#returning-a-view-versus-a-copy\n",
            "  This is separate from the ipykernel package so we can avoid doing imports until\n"
          ],
          "name": "stderr"
        }
      ]
    },
    {
      "cell_type": "code",
      "metadata": {
        "id": "9UJVImoP8_YQ"
      },
      "source": [
        "quarter_dummies = pd.DataFrame(pd.get_dummies(cola['Quarter']))\n",
        "cola1 = pd.concat([cola,quarter_dummies],axis = 1)"
      ],
      "execution_count": 100,
      "outputs": []
    },
    {
      "cell_type": "code",
      "metadata": {
        "colab": {
          "base_uri": "https://localhost:8080/",
          "height": 1000
        },
        "id": "-tHQasSn9TW8",
        "outputId": "d70f4cc2-db19-4632-f488-a82c119b83fb"
      },
      "source": [
        "cola1"
      ],
      "execution_count": 104,
      "outputs": [
        {
          "output_type": "execute_result",
          "data": {
            "text/html": [
              "<div>\n",
              "<style scoped>\n",
              "    .dataframe tbody tr th:only-of-type {\n",
              "        vertical-align: middle;\n",
              "    }\n",
              "\n",
              "    .dataframe tbody tr th {\n",
              "        vertical-align: top;\n",
              "    }\n",
              "\n",
              "    .dataframe thead th {\n",
              "        text-align: right;\n",
              "    }\n",
              "</style>\n",
              "<table border=\"1\" class=\"dataframe\">\n",
              "  <thead>\n",
              "    <tr style=\"text-align: right;\">\n",
              "      <th></th>\n",
              "      <th>Quarter</th>\n",
              "      <th>Sales</th>\n",
              "      <th>srma_pred</th>\n",
              "      <th>Q1_8</th>\n",
              "      <th>Q1_9</th>\n",
              "      <th>Q2_8</th>\n",
              "      <th>Q2_9</th>\n",
              "      <th>Q3_8</th>\n",
              "      <th>Q3_9</th>\n",
              "      <th>Q4_8</th>\n",
              "      <th>Q4_9</th>\n",
              "    </tr>\n",
              "  </thead>\n",
              "  <tbody>\n",
              "    <tr>\n",
              "      <th>0</th>\n",
              "      <td>Q1_8</td>\n",
              "      <td>1734.827000</td>\n",
              "      <td>NaN</td>\n",
              "      <td>1</td>\n",
              "      <td>0</td>\n",
              "      <td>0</td>\n",
              "      <td>0</td>\n",
              "      <td>0</td>\n",
              "      <td>0</td>\n",
              "      <td>0</td>\n",
              "      <td>0</td>\n",
              "    </tr>\n",
              "    <tr>\n",
              "      <th>1</th>\n",
              "      <td>Q2_8</td>\n",
              "      <td>2244.960999</td>\n",
              "      <td>1734.840679</td>\n",
              "      <td>0</td>\n",
              "      <td>0</td>\n",
              "      <td>1</td>\n",
              "      <td>0</td>\n",
              "      <td>0</td>\n",
              "      <td>0</td>\n",
              "      <td>0</td>\n",
              "      <td>0</td>\n",
              "    </tr>\n",
              "    <tr>\n",
              "      <th>2</th>\n",
              "      <td>Q3_8</td>\n",
              "      <td>2533.804993</td>\n",
              "      <td>2244.978005</td>\n",
              "      <td>0</td>\n",
              "      <td>0</td>\n",
              "      <td>0</td>\n",
              "      <td>0</td>\n",
              "      <td>1</td>\n",
              "      <td>0</td>\n",
              "      <td>0</td>\n",
              "      <td>0</td>\n",
              "    </tr>\n",
              "    <tr>\n",
              "      <th>3</th>\n",
              "      <td>Q4_8</td>\n",
              "      <td>2154.962997</td>\n",
              "      <td>2533.821431</td>\n",
              "      <td>0</td>\n",
              "      <td>0</td>\n",
              "      <td>0</td>\n",
              "      <td>0</td>\n",
              "      <td>0</td>\n",
              "      <td>0</td>\n",
              "      <td>1</td>\n",
              "      <td>0</td>\n",
              "    </tr>\n",
              "    <tr>\n",
              "      <th>4</th>\n",
              "      <td>Q1_8</td>\n",
              "      <td>1547.818996</td>\n",
              "      <td>2154.970163</td>\n",
              "      <td>1</td>\n",
              "      <td>0</td>\n",
              "      <td>0</td>\n",
              "      <td>0</td>\n",
              "      <td>0</td>\n",
              "      <td>0</td>\n",
              "      <td>0</td>\n",
              "      <td>0</td>\n",
              "    </tr>\n",
              "    <tr>\n",
              "      <th>5</th>\n",
              "      <td>Q2_8</td>\n",
              "      <td>2104.411995</td>\n",
              "      <td>1547.815078</td>\n",
              "      <td>0</td>\n",
              "      <td>0</td>\n",
              "      <td>1</td>\n",
              "      <td>0</td>\n",
              "      <td>0</td>\n",
              "      <td>0</td>\n",
              "      <td>0</td>\n",
              "      <td>0</td>\n",
              "    </tr>\n",
              "    <tr>\n",
              "      <th>6</th>\n",
              "      <td>Q3_8</td>\n",
              "      <td>2014.362999</td>\n",
              "      <td>2714.872055</td>\n",
              "      <td>0</td>\n",
              "      <td>0</td>\n",
              "      <td>0</td>\n",
              "      <td>0</td>\n",
              "      <td>1</td>\n",
              "      <td>0</td>\n",
              "      <td>0</td>\n",
              "      <td>0</td>\n",
              "    </tr>\n",
              "    <tr>\n",
              "      <th>7</th>\n",
              "      <td>Q4_8</td>\n",
              "      <td>1991.746998</td>\n",
              "      <td>2287.083142</td>\n",
              "      <td>0</td>\n",
              "      <td>0</td>\n",
              "      <td>0</td>\n",
              "      <td>0</td>\n",
              "      <td>0</td>\n",
              "      <td>0</td>\n",
              "      <td>1</td>\n",
              "      <td>0</td>\n",
              "    </tr>\n",
              "    <tr>\n",
              "      <th>8</th>\n",
              "      <td>Q1_8</td>\n",
              "      <td>1869.049999</td>\n",
              "      <td>2146.138740</td>\n",
              "      <td>1</td>\n",
              "      <td>0</td>\n",
              "      <td>0</td>\n",
              "      <td>0</td>\n",
              "      <td>0</td>\n",
              "      <td>0</td>\n",
              "      <td>0</td>\n",
              "      <td>0</td>\n",
              "    </tr>\n",
              "    <tr>\n",
              "      <th>9</th>\n",
              "      <td>Q2_8</td>\n",
              "      <td>2313.631996</td>\n",
              "      <td>1666.449783</td>\n",
              "      <td>0</td>\n",
              "      <td>0</td>\n",
              "      <td>1</td>\n",
              "      <td>0</td>\n",
              "      <td>0</td>\n",
              "      <td>0</td>\n",
              "      <td>0</td>\n",
              "      <td>0</td>\n",
              "    </tr>\n",
              "    <tr>\n",
              "      <th>10</th>\n",
              "      <td>Q3_8</td>\n",
              "      <td>2128.320000</td>\n",
              "      <td>1989.015006</td>\n",
              "      <td>0</td>\n",
              "      <td>0</td>\n",
              "      <td>0</td>\n",
              "      <td>0</td>\n",
              "      <td>1</td>\n",
              "      <td>0</td>\n",
              "      <td>0</td>\n",
              "      <td>0</td>\n",
              "    </tr>\n",
              "    <tr>\n",
              "      <th>11</th>\n",
              "      <td>Q4_8</td>\n",
              "      <td>2026.828999</td>\n",
              "      <td>2425.906692</td>\n",
              "      <td>0</td>\n",
              "      <td>0</td>\n",
              "      <td>0</td>\n",
              "      <td>0</td>\n",
              "      <td>0</td>\n",
              "      <td>0</td>\n",
              "      <td>1</td>\n",
              "      <td>0</td>\n",
              "    </tr>\n",
              "    <tr>\n",
              "      <th>12</th>\n",
              "      <td>Q1_8</td>\n",
              "      <td>1910.603996</td>\n",
              "      <td>2787.668066</td>\n",
              "      <td>1</td>\n",
              "      <td>0</td>\n",
              "      <td>0</td>\n",
              "      <td>0</td>\n",
              "      <td>0</td>\n",
              "      <td>0</td>\n",
              "      <td>0</td>\n",
              "      <td>0</td>\n",
              "    </tr>\n",
              "    <tr>\n",
              "      <th>13</th>\n",
              "      <td>Q2_8</td>\n",
              "      <td>2331.164993</td>\n",
              "      <td>NaN</td>\n",
              "      <td>0</td>\n",
              "      <td>0</td>\n",
              "      <td>1</td>\n",
              "      <td>0</td>\n",
              "      <td>0</td>\n",
              "      <td>0</td>\n",
              "      <td>0</td>\n",
              "      <td>0</td>\n",
              "    </tr>\n",
              "    <tr>\n",
              "      <th>14</th>\n",
              "      <td>Q3_8</td>\n",
              "      <td>2206.549995</td>\n",
              "      <td>NaN</td>\n",
              "      <td>0</td>\n",
              "      <td>0</td>\n",
              "      <td>0</td>\n",
              "      <td>0</td>\n",
              "      <td>1</td>\n",
              "      <td>0</td>\n",
              "      <td>0</td>\n",
              "      <td>0</td>\n",
              "    </tr>\n",
              "    <tr>\n",
              "      <th>15</th>\n",
              "      <td>Q4_8</td>\n",
              "      <td>2173.967995</td>\n",
              "      <td>NaN</td>\n",
              "      <td>0</td>\n",
              "      <td>0</td>\n",
              "      <td>0</td>\n",
              "      <td>0</td>\n",
              "      <td>0</td>\n",
              "      <td>0</td>\n",
              "      <td>1</td>\n",
              "      <td>0</td>\n",
              "    </tr>\n",
              "    <tr>\n",
              "      <th>16</th>\n",
              "      <td>Q1_9</td>\n",
              "      <td>2148.278000</td>\n",
              "      <td>NaN</td>\n",
              "      <td>0</td>\n",
              "      <td>1</td>\n",
              "      <td>0</td>\n",
              "      <td>0</td>\n",
              "      <td>0</td>\n",
              "      <td>0</td>\n",
              "      <td>0</td>\n",
              "      <td>0</td>\n",
              "    </tr>\n",
              "    <tr>\n",
              "      <th>17</th>\n",
              "      <td>Q2_9</td>\n",
              "      <td>2739.307999</td>\n",
              "      <td>NaN</td>\n",
              "      <td>0</td>\n",
              "      <td>0</td>\n",
              "      <td>0</td>\n",
              "      <td>1</td>\n",
              "      <td>0</td>\n",
              "      <td>0</td>\n",
              "      <td>0</td>\n",
              "      <td>0</td>\n",
              "    </tr>\n",
              "    <tr>\n",
              "      <th>18</th>\n",
              "      <td>Q3_9</td>\n",
              "      <td>2792.753998</td>\n",
              "      <td>NaN</td>\n",
              "      <td>0</td>\n",
              "      <td>0</td>\n",
              "      <td>0</td>\n",
              "      <td>0</td>\n",
              "      <td>0</td>\n",
              "      <td>1</td>\n",
              "      <td>0</td>\n",
              "      <td>0</td>\n",
              "    </tr>\n",
              "    <tr>\n",
              "      <th>19</th>\n",
              "      <td>Q4_9</td>\n",
              "      <td>2556.009995</td>\n",
              "      <td>NaN</td>\n",
              "      <td>0</td>\n",
              "      <td>0</td>\n",
              "      <td>0</td>\n",
              "      <td>0</td>\n",
              "      <td>0</td>\n",
              "      <td>0</td>\n",
              "      <td>0</td>\n",
              "      <td>1</td>\n",
              "    </tr>\n",
              "    <tr>\n",
              "      <th>20</th>\n",
              "      <td>Q1_9</td>\n",
              "      <td>2480.973999</td>\n",
              "      <td>NaN</td>\n",
              "      <td>0</td>\n",
              "      <td>1</td>\n",
              "      <td>0</td>\n",
              "      <td>0</td>\n",
              "      <td>0</td>\n",
              "      <td>0</td>\n",
              "      <td>0</td>\n",
              "      <td>0</td>\n",
              "    </tr>\n",
              "    <tr>\n",
              "      <th>21</th>\n",
              "      <td>Q2_9</td>\n",
              "      <td>3039.522995</td>\n",
              "      <td>NaN</td>\n",
              "      <td>0</td>\n",
              "      <td>0</td>\n",
              "      <td>0</td>\n",
              "      <td>1</td>\n",
              "      <td>0</td>\n",
              "      <td>0</td>\n",
              "      <td>0</td>\n",
              "      <td>0</td>\n",
              "    </tr>\n",
              "    <tr>\n",
              "      <th>22</th>\n",
              "      <td>Q3_9</td>\n",
              "      <td>3172.115997</td>\n",
              "      <td>NaN</td>\n",
              "      <td>0</td>\n",
              "      <td>0</td>\n",
              "      <td>0</td>\n",
              "      <td>0</td>\n",
              "      <td>0</td>\n",
              "      <td>1</td>\n",
              "      <td>0</td>\n",
              "      <td>0</td>\n",
              "    </tr>\n",
              "    <tr>\n",
              "      <th>23</th>\n",
              "      <td>Q4_9</td>\n",
              "      <td>2879.000999</td>\n",
              "      <td>NaN</td>\n",
              "      <td>0</td>\n",
              "      <td>0</td>\n",
              "      <td>0</td>\n",
              "      <td>0</td>\n",
              "      <td>0</td>\n",
              "      <td>0</td>\n",
              "      <td>0</td>\n",
              "      <td>1</td>\n",
              "    </tr>\n",
              "    <tr>\n",
              "      <th>24</th>\n",
              "      <td>Q1_9</td>\n",
              "      <td>2772.000000</td>\n",
              "      <td>NaN</td>\n",
              "      <td>0</td>\n",
              "      <td>1</td>\n",
              "      <td>0</td>\n",
              "      <td>0</td>\n",
              "      <td>0</td>\n",
              "      <td>0</td>\n",
              "      <td>0</td>\n",
              "      <td>0</td>\n",
              "    </tr>\n",
              "    <tr>\n",
              "      <th>25</th>\n",
              "      <td>Q2_9</td>\n",
              "      <td>3550.000000</td>\n",
              "      <td>NaN</td>\n",
              "      <td>0</td>\n",
              "      <td>0</td>\n",
              "      <td>0</td>\n",
              "      <td>1</td>\n",
              "      <td>0</td>\n",
              "      <td>0</td>\n",
              "      <td>0</td>\n",
              "      <td>0</td>\n",
              "    </tr>\n",
              "    <tr>\n",
              "      <th>26</th>\n",
              "      <td>Q3_9</td>\n",
              "      <td>3508.000000</td>\n",
              "      <td>NaN</td>\n",
              "      <td>0</td>\n",
              "      <td>0</td>\n",
              "      <td>0</td>\n",
              "      <td>0</td>\n",
              "      <td>0</td>\n",
              "      <td>1</td>\n",
              "      <td>0</td>\n",
              "      <td>0</td>\n",
              "    </tr>\n",
              "    <tr>\n",
              "      <th>27</th>\n",
              "      <td>Q4_9</td>\n",
              "      <td>3243.859993</td>\n",
              "      <td>NaN</td>\n",
              "      <td>0</td>\n",
              "      <td>0</td>\n",
              "      <td>0</td>\n",
              "      <td>0</td>\n",
              "      <td>0</td>\n",
              "      <td>0</td>\n",
              "      <td>0</td>\n",
              "      <td>1</td>\n",
              "    </tr>\n",
              "    <tr>\n",
              "      <th>28</th>\n",
              "      <td>Q1_9</td>\n",
              "      <td>3056.000000</td>\n",
              "      <td>NaN</td>\n",
              "      <td>0</td>\n",
              "      <td>1</td>\n",
              "      <td>0</td>\n",
              "      <td>0</td>\n",
              "      <td>0</td>\n",
              "      <td>0</td>\n",
              "      <td>0</td>\n",
              "      <td>0</td>\n",
              "    </tr>\n",
              "    <tr>\n",
              "      <th>29</th>\n",
              "      <td>Q2_9</td>\n",
              "      <td>3899.000000</td>\n",
              "      <td>NaN</td>\n",
              "      <td>0</td>\n",
              "      <td>0</td>\n",
              "      <td>0</td>\n",
              "      <td>1</td>\n",
              "      <td>0</td>\n",
              "      <td>0</td>\n",
              "      <td>0</td>\n",
              "      <td>0</td>\n",
              "    </tr>\n",
              "    <tr>\n",
              "      <th>30</th>\n",
              "      <td>Q3_9</td>\n",
              "      <td>3629.000000</td>\n",
              "      <td>NaN</td>\n",
              "      <td>0</td>\n",
              "      <td>0</td>\n",
              "      <td>0</td>\n",
              "      <td>0</td>\n",
              "      <td>0</td>\n",
              "      <td>1</td>\n",
              "      <td>0</td>\n",
              "      <td>0</td>\n",
              "    </tr>\n",
              "    <tr>\n",
              "      <th>31</th>\n",
              "      <td>Q4_9</td>\n",
              "      <td>3373.000000</td>\n",
              "      <td>NaN</td>\n",
              "      <td>0</td>\n",
              "      <td>0</td>\n",
              "      <td>0</td>\n",
              "      <td>0</td>\n",
              "      <td>0</td>\n",
              "      <td>0</td>\n",
              "      <td>0</td>\n",
              "      <td>1</td>\n",
              "    </tr>\n",
              "    <tr>\n",
              "      <th>32</th>\n",
              "      <td>Q1_9</td>\n",
              "      <td>3352.000000</td>\n",
              "      <td>NaN</td>\n",
              "      <td>0</td>\n",
              "      <td>1</td>\n",
              "      <td>0</td>\n",
              "      <td>0</td>\n",
              "      <td>0</td>\n",
              "      <td>0</td>\n",
              "      <td>0</td>\n",
              "      <td>0</td>\n",
              "    </tr>\n",
              "    <tr>\n",
              "      <th>33</th>\n",
              "      <td>Q2_9</td>\n",
              "      <td>4342.000000</td>\n",
              "      <td>NaN</td>\n",
              "      <td>0</td>\n",
              "      <td>0</td>\n",
              "      <td>0</td>\n",
              "      <td>1</td>\n",
              "      <td>0</td>\n",
              "      <td>0</td>\n",
              "      <td>0</td>\n",
              "      <td>0</td>\n",
              "    </tr>\n",
              "    <tr>\n",
              "      <th>34</th>\n",
              "      <td>Q3_9</td>\n",
              "      <td>4461.000000</td>\n",
              "      <td>NaN</td>\n",
              "      <td>0</td>\n",
              "      <td>0</td>\n",
              "      <td>0</td>\n",
              "      <td>0</td>\n",
              "      <td>0</td>\n",
              "      <td>1</td>\n",
              "      <td>0</td>\n",
              "      <td>0</td>\n",
              "    </tr>\n",
              "    <tr>\n",
              "      <th>35</th>\n",
              "      <td>Q4_9</td>\n",
              "      <td>4017.000000</td>\n",
              "      <td>NaN</td>\n",
              "      <td>0</td>\n",
              "      <td>0</td>\n",
              "      <td>0</td>\n",
              "      <td>0</td>\n",
              "      <td>0</td>\n",
              "      <td>0</td>\n",
              "      <td>0</td>\n",
              "      <td>1</td>\n",
              "    </tr>\n",
              "    <tr>\n",
              "      <th>36</th>\n",
              "      <td>Q1_9</td>\n",
              "      <td>3854.000000</td>\n",
              "      <td>NaN</td>\n",
              "      <td>0</td>\n",
              "      <td>1</td>\n",
              "      <td>0</td>\n",
              "      <td>0</td>\n",
              "      <td>0</td>\n",
              "      <td>0</td>\n",
              "      <td>0</td>\n",
              "      <td>0</td>\n",
              "    </tr>\n",
              "    <tr>\n",
              "      <th>37</th>\n",
              "      <td>Q2_9</td>\n",
              "      <td>4936.000000</td>\n",
              "      <td>NaN</td>\n",
              "      <td>0</td>\n",
              "      <td>0</td>\n",
              "      <td>0</td>\n",
              "      <td>1</td>\n",
              "      <td>0</td>\n",
              "      <td>0</td>\n",
              "      <td>0</td>\n",
              "      <td>0</td>\n",
              "    </tr>\n",
              "    <tr>\n",
              "      <th>38</th>\n",
              "      <td>Q3_9</td>\n",
              "      <td>4895.000000</td>\n",
              "      <td>NaN</td>\n",
              "      <td>0</td>\n",
              "      <td>0</td>\n",
              "      <td>0</td>\n",
              "      <td>0</td>\n",
              "      <td>0</td>\n",
              "      <td>1</td>\n",
              "      <td>0</td>\n",
              "      <td>0</td>\n",
              "    </tr>\n",
              "    <tr>\n",
              "      <th>39</th>\n",
              "      <td>Q4_9</td>\n",
              "      <td>4333.000000</td>\n",
              "      <td>NaN</td>\n",
              "      <td>0</td>\n",
              "      <td>0</td>\n",
              "      <td>0</td>\n",
              "      <td>0</td>\n",
              "      <td>0</td>\n",
              "      <td>0</td>\n",
              "      <td>0</td>\n",
              "      <td>1</td>\n",
              "    </tr>\n",
              "    <tr>\n",
              "      <th>40</th>\n",
              "      <td>Q1_9</td>\n",
              "      <td>4194.000000</td>\n",
              "      <td>NaN</td>\n",
              "      <td>0</td>\n",
              "      <td>1</td>\n",
              "      <td>0</td>\n",
              "      <td>0</td>\n",
              "      <td>0</td>\n",
              "      <td>0</td>\n",
              "      <td>0</td>\n",
              "      <td>0</td>\n",
              "    </tr>\n",
              "    <tr>\n",
              "      <th>41</th>\n",
              "      <td>Q2_9</td>\n",
              "      <td>5253.000000</td>\n",
              "      <td>NaN</td>\n",
              "      <td>0</td>\n",
              "      <td>0</td>\n",
              "      <td>0</td>\n",
              "      <td>1</td>\n",
              "      <td>0</td>\n",
              "      <td>0</td>\n",
              "      <td>0</td>\n",
              "      <td>0</td>\n",
              "    </tr>\n",
              "  </tbody>\n",
              "</table>\n",
              "</div>"
            ],
            "text/plain": [
              "   Quarter        Sales    srma_pred  Q1_8  Q1_9  ...  Q2_9  Q3_8  Q3_9  Q4_8  Q4_9\n",
              "0     Q1_8  1734.827000          NaN     1     0  ...     0     0     0     0     0\n",
              "1     Q2_8  2244.960999  1734.840679     0     0  ...     0     0     0     0     0\n",
              "2     Q3_8  2533.804993  2244.978005     0     0  ...     0     1     0     0     0\n",
              "3     Q4_8  2154.962997  2533.821431     0     0  ...     0     0     0     1     0\n",
              "4     Q1_8  1547.818996  2154.970163     1     0  ...     0     0     0     0     0\n",
              "5     Q2_8  2104.411995  1547.815078     0     0  ...     0     0     0     0     0\n",
              "6     Q3_8  2014.362999  2714.872055     0     0  ...     0     1     0     0     0\n",
              "7     Q4_8  1991.746998  2287.083142     0     0  ...     0     0     0     1     0\n",
              "8     Q1_8  1869.049999  2146.138740     1     0  ...     0     0     0     0     0\n",
              "9     Q2_8  2313.631996  1666.449783     0     0  ...     0     0     0     0     0\n",
              "10    Q3_8  2128.320000  1989.015006     0     0  ...     0     1     0     0     0\n",
              "11    Q4_8  2026.828999  2425.906692     0     0  ...     0     0     0     1     0\n",
              "12    Q1_8  1910.603996  2787.668066     1     0  ...     0     0     0     0     0\n",
              "13    Q2_8  2331.164993          NaN     0     0  ...     0     0     0     0     0\n",
              "14    Q3_8  2206.549995          NaN     0     0  ...     0     1     0     0     0\n",
              "15    Q4_8  2173.967995          NaN     0     0  ...     0     0     0     1     0\n",
              "16    Q1_9  2148.278000          NaN     0     1  ...     0     0     0     0     0\n",
              "17    Q2_9  2739.307999          NaN     0     0  ...     1     0     0     0     0\n",
              "18    Q3_9  2792.753998          NaN     0     0  ...     0     0     1     0     0\n",
              "19    Q4_9  2556.009995          NaN     0     0  ...     0     0     0     0     1\n",
              "20    Q1_9  2480.973999          NaN     0     1  ...     0     0     0     0     0\n",
              "21    Q2_9  3039.522995          NaN     0     0  ...     1     0     0     0     0\n",
              "22    Q3_9  3172.115997          NaN     0     0  ...     0     0     1     0     0\n",
              "23    Q4_9  2879.000999          NaN     0     0  ...     0     0     0     0     1\n",
              "24    Q1_9  2772.000000          NaN     0     1  ...     0     0     0     0     0\n",
              "25    Q2_9  3550.000000          NaN     0     0  ...     1     0     0     0     0\n",
              "26    Q3_9  3508.000000          NaN     0     0  ...     0     0     1     0     0\n",
              "27    Q4_9  3243.859993          NaN     0     0  ...     0     0     0     0     1\n",
              "28    Q1_9  3056.000000          NaN     0     1  ...     0     0     0     0     0\n",
              "29    Q2_9  3899.000000          NaN     0     0  ...     1     0     0     0     0\n",
              "30    Q3_9  3629.000000          NaN     0     0  ...     0     0     1     0     0\n",
              "31    Q4_9  3373.000000          NaN     0     0  ...     0     0     0     0     1\n",
              "32    Q1_9  3352.000000          NaN     0     1  ...     0     0     0     0     0\n",
              "33    Q2_9  4342.000000          NaN     0     0  ...     1     0     0     0     0\n",
              "34    Q3_9  4461.000000          NaN     0     0  ...     0     0     1     0     0\n",
              "35    Q4_9  4017.000000          NaN     0     0  ...     0     0     0     0     1\n",
              "36    Q1_9  3854.000000          NaN     0     1  ...     0     0     0     0     0\n",
              "37    Q2_9  4936.000000          NaN     0     0  ...     1     0     0     0     0\n",
              "38    Q3_9  4895.000000          NaN     0     0  ...     0     0     1     0     0\n",
              "39    Q4_9  4333.000000          NaN     0     0  ...     0     0     0     0     1\n",
              "40    Q1_9  4194.000000          NaN     0     1  ...     0     0     0     0     0\n",
              "41    Q2_9  5253.000000          NaN     0     0  ...     1     0     0     0     0\n",
              "\n",
              "[42 rows x 11 columns]"
            ]
          },
          "metadata": {
            "tags": []
          },
          "execution_count": 104
        }
      ]
    },
    {
      "cell_type": "code",
      "metadata": {
        "id": "wnxTbyW49Zoo"
      },
      "source": [
        "cola1[\"t\"] = np.arange(1,43)\n"
      ],
      "execution_count": 106,
      "outputs": []
    },
    {
      "cell_type": "code",
      "metadata": {
        "id": "8xnIR1f59zBI"
      },
      "source": [
        "cola1[\"t_squared\"] = cola1[\"t\"]*cola1[\"t\"]"
      ],
      "execution_count": 107,
      "outputs": []
    },
    {
      "cell_type": "code",
      "metadata": {
        "colab": {
          "base_uri": "https://localhost:8080/"
        },
        "id": "5rCSunHN99kP",
        "outputId": "cad07167-5ad0-406f-a153-d3bfb636a623"
      },
      "source": [
        "cola1.columns"
      ],
      "execution_count": 108,
      "outputs": [
        {
          "output_type": "execute_result",
          "data": {
            "text/plain": [
              "Index(['Quarter', 'Sales', 'srma_pred', 'Q1_8', 'Q1_9', 'Q2_8', 'Q2_9', 'Q3_8',\n",
              "       'Q3_9', 'Q4_8', 'Q4_9', 't', 't_squared'],\n",
              "      dtype='object')"
            ]
          },
          "metadata": {
            "tags": []
          },
          "execution_count": 108
        }
      ]
    },
    {
      "cell_type": "code",
      "metadata": {
        "id": "uiDti1QV-CB8"
      },
      "source": [
        "cola1[\"log_Rider\"] = np.log(cola1[\"Sales\"])"
      ],
      "execution_count": 110,
      "outputs": []
    },
    {
      "cell_type": "code",
      "metadata": {
        "colab": {
          "base_uri": "https://localhost:8080/",
          "height": 282
        },
        "id": "f9KDYCpE-MfB",
        "outputId": "f2264e71-d7ce-490f-e206-5ffe5755cef7"
      },
      "source": [
        "cola1.Sales.plot()"
      ],
      "execution_count": 111,
      "outputs": [
        {
          "output_type": "execute_result",
          "data": {
            "text/plain": [
              "<matplotlib.axes._subplots.AxesSubplot at 0x7fbac8a99d50>"
            ]
          },
          "metadata": {
            "tags": []
          },
          "execution_count": 111
        },
        {
          "output_type": "display_data",
          "data": {
            "image/png": "[encoded data removed]",
            "text/plain": [
              "<Figure size 432x288 with 1 Axes>"
            ]
          },
          "metadata": {
            "tags": [],
            "needs_background": "light"
          }
        }
      ]
    },
    {
      "cell_type": "code",
      "metadata": {
        "id": "Z9RK3apg_e-M"
      },
      "source": [
        ""
      ],
      "execution_count": 118,
      "outputs": []
    },
    {
      "cell_type": "code",
      "metadata": {
        "id": "RqfTvwGW-eBq"
      },
      "source": [
        "Train = cola1.head(30)\n",
        "Test = cola1.tail(12)\n"
      ],
      "execution_count": 112,
      "outputs": []
    },
    {
      "cell_type": "code",
      "metadata": {
        "id": "_9bruf4S-4NG"
      },
      "source": [
        "####################### L I N E A R ##########################\n",
        "import statsmodels.formula.api as smf \n"
      ],
      "execution_count": 113,
      "outputs": []
    },
    {
      "cell_type": "code",
      "metadata": {
        "id": "KCJ-ozsG-711"
      },
      "source": [
        "linear_model = smf.ols('Sales~t',data=Train).fit()"
      ],
      "execution_count": 114,
      "outputs": []
    },
    {
      "cell_type": "code",
      "metadata": {
        "colab": {
          "base_uri": "https://localhost:8080/"
        },
        "id": "XKvyU2dA_E6l",
        "outputId": "a6519735-071a-49bd-f9e0-1c464db8498d"
      },
      "source": [
        "linear_model"
      ],
      "execution_count": 115,
      "outputs": [
        {
          "output_type": "execute_result",
          "data": {
            "text/plain": [
              "<statsmodels.regression.linear_model.RegressionResultsWrapper at 0x7fbac8a6f6d0>"
            ]
          },
          "metadata": {
            "tags": []
          },
          "execution_count": 115
        }
      ]
    },
    {
      "cell_type": "code",
      "metadata": {
        "id": "fXLfBSf__Ilv"
      },
      "source": [
        "pred_linear =  pd.Series(linear_model.predict(pd.DataFrame(Test['t'])))"
      ],
      "execution_count": 116,
      "outputs": []
    },
    {
      "cell_type": "code",
      "metadata": {
        "id": "uPph9268_OPn"
      },
      "source": [
        "rmse_linear = np.sqrt(np.mean((np.array(Test['Sales'])-np.array(pred_linear))**2))"
      ],
      "execution_count": 117,
      "outputs": []
    },
    {
      "cell_type": "code",
      "metadata": {
        "colab": {
          "base_uri": "https://localhost:8080/"
        },
        "id": "NsOACRPf_WQN",
        "outputId": "09b47510-cb3a-40cd-dfc3-3cc886e8283e"
      },
      "source": [
        "rmse_linear\n"
      ],
      "execution_count": 118,
      "outputs": [
        {
          "output_type": "execute_result",
          "data": {
            "text/plain": [
              "714.0144483818334"
            ]
          },
          "metadata": {
            "tags": []
          },
          "execution_count": 118
        }
      ]
    },
    {
      "cell_type": "code",
      "metadata": {
        "id": "bXdYYGNA_Z2X"
      },
      "source": [
        "##################### Exponential ##############################\n",
        "\n",
        "Exp = smf.ols('log_Rider~t',data=Train).fit()"
      ],
      "execution_count": 119,
      "outputs": []
    },
    {
      "cell_type": "code",
      "metadata": {
        "id": "0GYtziJW_heV"
      },
      "source": [
        "pred_Exp = pd.Series(Exp.predict(pd.DataFrame(Test['t'])))"
      ],
      "execution_count": 120,
      "outputs": []
    },
    {
      "cell_type": "code",
      "metadata": {
        "id": "nmsBSgp9_lvP"
      },
      "source": [
        "rmse_Exp = np.sqrt(np.mean((np.array(Test['Sales'])-np.array(np.exp(pred_Exp)))**2))"
      ],
      "execution_count": 121,
      "outputs": []
    },
    {
      "cell_type": "code",
      "metadata": {
        "colab": {
          "base_uri": "https://localhost:8080/"
        },
        "id": "vgndbI1k_r3i",
        "outputId": "7a1fed4b-f0e2-44ac-d0ed-3b69f7793410"
      },
      "source": [
        "rmse_Exp"
      ],
      "execution_count": 122,
      "outputs": [
        {
          "output_type": "execute_result",
          "data": {
            "text/plain": [
              "552.2821039688199"
            ]
          },
          "metadata": {
            "tags": []
          },
          "execution_count": 122
        }
      ]
    },
    {
      "cell_type": "code",
      "metadata": {
        "id": "xDd7G6z4_t_7"
      },
      "source": [
        "#################### Quadratic ###############################\n",
        "\n",
        "Quad = smf.ols('Sales~t+t_squared',data=Train).fit()"
      ],
      "execution_count": 126,
      "outputs": []
    },
    {
      "cell_type": "code",
      "metadata": {
        "id": "fGrW0Yun_xwS"
      },
      "source": [
        "pred_Quad = pd.Series(Quad.predict(Test[[\"t\",\"t_squared\"]]))"
      ],
      "execution_count": 127,
      "outputs": []
    },
    {
      "cell_type": "code",
      "metadata": {
        "id": "9IZR-E9rAamu"
      },
      "source": [
        "rmse_Quad = np.sqrt(np.mean((np.array(Test['Sales'])-np.array(pred_Quad))**2))"
      ],
      "execution_count": 128,
      "outputs": []
    },
    {
      "cell_type": "code",
      "metadata": {
        "colab": {
          "base_uri": "https://localhost:8080/"
        },
        "id": "hibTTgxEAglS",
        "outputId": "d218881a-abb5-4d75-dd0a-e932d1450960"
      },
      "source": [
        "rmse_Quad"
      ],
      "execution_count": 129,
      "outputs": [
        {
          "output_type": "execute_result",
          "data": {
            "text/plain": [
              "646.2715428656094"
            ]
          },
          "metadata": {
            "tags": []
          },
          "execution_count": 129
        }
      ]
    },
    {
      "cell_type": "code",
      "metadata": {
        "colab": {
          "base_uri": "https://localhost:8080/",
          "height": 137
        },
        "id": "CcRuoDOPAwar",
        "outputId": "aa1c8092-c1e9-4044-fe21-d662a16f7886"
      },
      "source": [
        "################## Testing #######################################\n",
        "\n",
        "data = {\"MODEL\":pd.Series([\"rmse_linear\",\"rmse_Exp\",\"rmse_Quad\"]),\"RMSE_Values\":pd.Series([rmse_linear,rmse_Exp,rmse_Quad])}\n",
        "table_rmse=pd.DataFrame(data)\n",
        "table_rmse"
      ],
      "execution_count": 133,
      "outputs": [
        {
          "output_type": "execute_result",
          "data": {
            "text/html": [
              "<div>\n",
              "<style scoped>\n",
              "    .dataframe tbody tr th:only-of-type {\n",
              "        vertical-align: middle;\n",
              "    }\n",
              "\n",
              "    .dataframe tbody tr th {\n",
              "        vertical-align: top;\n",
              "    }\n",
              "\n",
              "    .dataframe thead th {\n",
              "        text-align: right;\n",
              "    }\n",
              "</style>\n",
              "<table border=\"1\" class=\"dataframe\">\n",
              "  <thead>\n",
              "    <tr style=\"text-align: right;\">\n",
              "      <th></th>\n",
              "      <th>MODEL</th>\n",
              "      <th>RMSE_Values</th>\n",
              "    </tr>\n",
              "  </thead>\n",
              "  <tbody>\n",
              "    <tr>\n",
              "      <th>0</th>\n",
              "      <td>rmse_linear</td>\n",
              "      <td>714.014448</td>\n",
              "    </tr>\n",
              "    <tr>\n",
              "      <th>1</th>\n",
              "      <td>rmse_Exp</td>\n",
              "      <td>552.282104</td>\n",
              "    </tr>\n",
              "    <tr>\n",
              "      <th>2</th>\n",
              "      <td>rmse_Quad</td>\n",
              "      <td>646.271543</td>\n",
              "    </tr>\n",
              "  </tbody>\n",
              "</table>\n",
              "</div>"
            ],
            "text/plain": [
              "         MODEL  RMSE_Values\n",
              "0  rmse_linear   714.014448\n",
              "1     rmse_Exp   552.282104\n",
              "2    rmse_Quad   646.271543"
            ]
          },
          "metadata": {
            "tags": []
          },
          "execution_count": 133
        }
      ]
    },
    {
      "cell_type": "code",
      "metadata": {
        "id": "GJIAmgVgBYmm"
      },
      "source": [
        "# so rmse_add_sea has the least value among the models prepared so far \n",
        "# Predicting new values \n"
      ],
      "execution_count": 134,
      "outputs": []
    },
    {
      "cell_type": "code",
      "metadata": {
        "id": "YmIVpAnfBlpj"
      },
      "source": [
        ""
      ],
      "execution_count": null,
      "outputs": []
    }
  ]
}